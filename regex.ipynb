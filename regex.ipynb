{
 "cells": [
  {
   "attachments": {},
   "cell_type": "markdown",
   "metadata": {},
   "source": [
    "# Regular Expressions: Regexes in Python"
   ]
  },
  {
   "attachments": {},
   "cell_type": "markdown",
   "metadata": {},
   "source": [
    "### Basics"
   ]
  },
  {
   "cell_type": "code",
   "execution_count": 3,
   "metadata": {},
   "outputs": [
    {
     "name": "stdout",
     "output_type": "stream",
     "text": [
      "True\n",
      "3\n",
      "3\n"
     ]
    }
   ],
   "source": [
    "# Without regex\n",
    "# suppose we want to find some pattren in a string , then we can use\n",
    "\n",
    "# Method-1\n",
    "s = \"foo123bar\"\n",
    "print('123' in s)\n",
    "\n",
    "# Method-2\n",
    "print(s.find('123'))\n",
    "\n",
    "# Method-3\n",
    "print(s.index('123'))"
   ]
  },
  {
   "attachments": {},
   "cell_type": "markdown",
   "metadata": {},
   "source": [
    "But there are some cases where this method won't work - \n",
    "- For example, rather than searching for a fixed substring like '123', suppose you wanted to determine whether a string contains any three consecutive decimal digit characters, as in the strings 'foo123bar', 'foo456bar', '234baz', and 'qux678'.\n",
    "\n",
    "Here regular expression comes into picture\n",
    "\n",
    "Regular expressions in python can be used by `re` module like - \n",
    "\n",
    "`import re`\n",
    "\n",
    "`re.search(<regex>, <string>)`\n",
    "\n",
    "re.search(<regex>, <string>) scans <string> looking for the first location where the pattern <regex> matches. If a match is found, then re.search() returns a match object. Otherwise, it returns None."
   ]
  },
  {
   "cell_type": "code",
   "execution_count": 5,
   "metadata": {},
   "outputs": [
    {
     "data": {
      "text/plain": [
       "<re.Match object; span=(3, 6), match='123'>"
      ]
     },
     "execution_count": 5,
     "metadata": {},
     "output_type": "execute_result"
    }
   ],
   "source": [
    "s = \"foo123bar\"\n",
    "\n",
    "import re\n",
    "re.search('123',s) # returns None if no match found"
   ]
  },
  {
   "attachments": {},
   "cell_type": "markdown",
   "metadata": {},
   "source": [
    "### Python Regex Metacharacters\n",
    "When `<regex>` contains **special** characters called **metacharacters**"
   ]
  },
  {
   "cell_type": "code",
   "execution_count": 7,
   "metadata": {},
   "outputs": [
    {
     "name": "stdout",
     "output_type": "stream",
     "text": [
      "<re.Match object; span=(3, 6), match='456'>\n",
      "<re.Match object; span=(0, 3), match='234'>\n",
      "<re.Match object; span=(3, 6), match='678'>\n",
      "None\n"
     ]
    }
   ],
   "source": [
    "# Let's find the strings that contains three consicutive decimal numbers\n",
    "s1 = 'foo456bar'\n",
    "s2 = '234baz'\n",
    "s3 = 'qux678'\n",
    "s4 = '12foo34'\n",
    "\n",
    "pattern = '[0-9][0-9][0-9]'\n",
    "print(re.search(pattern,s1))\n",
    "print(re.search(pattern,s2))\n",
    "print(re.search(pattern,s3))\n",
    "print(re.search(pattern,s4))"
   ]
  },
  {
   "attachments": {},
   "cell_type": "markdown",
   "metadata": {},
   "source": [
    "**Character(s)** -------|------- **Meaning**\n",
    "```\n",
    "\n",
    "    \\.  -------- Matches any single character except newline\n",
    "\n",
    "    ^   -------- ∙Anchors a match at the start of a string\n",
    "                 ∙ Complements a character class\n",
    "\n",
    "    $   -------- Anchors a match at the end of a string\n",
    "\n",
    "    \\*  -------- Matches zero or more repetitions\n",
    "\n",
    "    \\+  -------- Matches one or more repetitions\n",
    "\n",
    "    ?   -------- ∙ Matches zero or one repetition\n",
    "                 ∙ Specifies the non-greedy versions of *, +, and ?\n",
    "                 ∙ Introduces a lookahead or lookbehind assertion\n",
    "                 ∙ Creates a named group\n",
    "\n",
    "    {}  -------- Matches an explicitly specified number of repetitions\n",
    "\n",
    "    \\   -------- ∙ Escapes a metacharacter of its special meaning\n",
    "                ∙ Introduces a special character class\n",
    "                ∙ Introduces a grouping backreference\n",
    "\n",
    "    [] \t-------- Specifies a character class\n",
    "\n",
    "    | \t-------- Designates alternation\n",
    "\n",
    "    () \t-------- Creates a group\n",
    "    \\:            \n",
    "    \\#           \n",
    "    \\=           \n",
    "\n",
    "    !   ------- Designate a specialized group\n",
    "\n",
    "    < > ------- Creates a named group\n",
    "```"
   ]
  },
  {
   "attachments": {},
   "cell_type": "markdown",
   "metadata": {},
   "source": [
    "### [ ] : Specifies a specific set of characters to match.\n",
    "`b[ea]d` - will match with 'e' or 'a' between 'b' and 'd' so, **bed**, **bad** can be matched"
   ]
  },
  {
   "cell_type": "code",
   "execution_count": 8,
   "metadata": {},
   "outputs": [
    {
     "name": "stdout",
     "output_type": "stream",
     "text": [
      "<re.Match object; span=(0, 3), match='bed'>\n",
      "<re.Match object; span=(0, 3), match='bad'>\n"
     ]
    }
   ],
   "source": [
    "s1 = \"bed\"\n",
    "s2 = \"bad\"\n",
    "print(re.search('b[ae]d',s1))\n",
    "print(re.search('b[ae]d',s2))"
   ]
  },
  {
   "cell_type": "code",
   "execution_count": 14,
   "metadata": {},
   "outputs": [
    {
     "data": {
      "text/plain": [
       "<re.Match object; span=(4, 5), match='k'>"
      ]
     },
     "execution_count": 14,
     "metadata": {},
     "output_type": "execute_result"
    }
   ],
   "source": [
    "# It also takes range like , a-z, 0-9 etc.\n",
    "re.search('[a-z]','F11-key')  # Returns the first matching occurance"
   ]
  },
  {
   "cell_type": "code",
   "execution_count": 15,
   "metadata": {},
   "outputs": [
    {
     "data": {
      "text/plain": [
       "<re.Match object; span=(3, 5), match='12'>"
      ]
     },
     "execution_count": 15,
     "metadata": {},
     "output_type": "execute_result"
    }
   ],
   "source": [
    "# To match sequence of characters(pattern) \n",
    "re.search('[0-9][0-9]', 'foo123bar')"
   ]
  },
  {
   "cell_type": "code",
   "execution_count": 18,
   "metadata": {},
   "outputs": [
    {
     "data": {
      "text/plain": [
       "<re.Match object; span=(4, 5), match='9'>"
      ]
     },
     "execution_count": 18,
     "metadata": {},
     "output_type": "execute_result"
    }
   ],
   "source": [
    "# Applying Compliment\n",
    "re.search('[^0-8]', '12349foo')  #It will match with anything other than numbers from 0-8"
   ]
  },
  {
   "cell_type": "code",
   "execution_count": 21,
   "metadata": {},
   "outputs": [
    {
     "data": {
      "text/plain": [
       "<re.Match object; span=(3, 4), match='^'>"
      ]
     },
     "execution_count": 21,
     "metadata": {},
     "output_type": "execute_result"
    }
   ],
   "source": [
    "# If a ^ character appears in a character class but isn’t the first character, then it has no special meaning and matches a literal '^' character:\n",
    "re.search('[#:^]', 'foo^bar:baz#qux')"
   ]
  },
  {
   "cell_type": "code",
   "execution_count": 23,
   "metadata": {},
   "outputs": [
    {
     "data": {
      "text/plain": [
       "<re.Match object; span=(3, 4), match='-'>"
      ]
     },
     "execution_count": 23,
     "metadata": {},
     "output_type": "execute_result"
    }
   ],
   "source": [
    "re.search('[ab\\-c]', '123-456')  # Can use \\ for escape characters"
   ]
  },
  {
   "cell_type": "code",
   "execution_count": 24,
   "metadata": {},
   "outputs": [
    {
     "data": {
      "text/plain": [
       "<re.Match object; span=(3, 4), match='*'>"
      ]
     },
     "execution_count": 24,
     "metadata": {},
     "output_type": "execute_result"
    }
   ],
   "source": [
    "# Other regex metacharacters lose their special meaning inside a character class:\n",
    "re.search('[)*+|]', '123*456')"
   ]
  },
  {
   "attachments": {},
   "cell_type": "markdown",
   "metadata": {},
   "source": [
    "### dot (.) : Specifies a wildcard.\n",
    "The . metacharacter matches any single character except a newline:"
   ]
  },
  {
   "cell_type": "code",
   "execution_count": 31,
   "metadata": {},
   "outputs": [
    {
     "name": "stdout",
     "output_type": "stream",
     "text": [
      "<re.Match object; span=(0, 7), match='fooxbar'>\n",
      "None\n",
      "None\n",
      "None\n"
     ]
    }
   ],
   "source": [
    "print(re.search('foo.bar', 'fooxbar'))  # Matches only scgle character\n",
    "print(re.search('foo.bar', 'fooxwebar'))\n",
    "print(re.search('foo.bar', 'foobar'))\n",
    "print(re.search('foo.bar', 'foo\\nbar'))"
   ]
  },
  {
   "attachments": {},
   "cell_type": "markdown",
   "metadata": {},
   "source": [
    "### \\w ,\\W  : Match based on whether a character is a word character.\n",
    "- `\\w` matches any alphanumeric word character. Word characters are uppercase and lowercase letters, digits, and the underscore (_) character, so `\\w` is essentially shorthand for `[a-zA-Z0-9_]`\n",
    "- `\\W` is the opposite. It matches any non-word character and is equivalent to `[^a-zA-Z0-9_]`"
   ]
  },
  {
   "cell_type": "code",
   "execution_count": 36,
   "metadata": {},
   "outputs": [
    {
     "name": "stdout",
     "output_type": "stream",
     "text": [
      "<re.Match object; span=(3, 4), match='a'>\n",
      "<re.Match object; span=(3, 4), match='a'>\n"
     ]
    }
   ],
   "source": [
    "# \\w\n",
    "print(re.search('\\w', '#(.a$@&'))\n",
    "print(re.search('[a-zA-Z0-9_]', '#(.a$@&'))"
   ]
  },
  {
   "cell_type": "code",
   "execution_count": 38,
   "metadata": {},
   "outputs": [
    {
     "name": "stdout",
     "output_type": "stream",
     "text": [
      "<re.Match object; span=(3, 4), match='*'>\n",
      "<re.Match object; span=(3, 4), match='*'>\n"
     ]
    }
   ],
   "source": [
    "# \\W\n",
    "print(re.search('\\W', 'a_1*3Qb'))\n",
    "print(re.search('[^a-zA-Z0-9_]', 'a_1*3Qb'))"
   ]
  },
  {
   "cell_type": "code",
   "execution_count": null,
   "metadata": {},
   "outputs": [],
   "source": []
  }
 ],
 "metadata": {
  "kernelspec": {
   "display_name": "jupyter",
   "language": "python",
   "name": "python3"
  },
  "language_info": {
   "codemirror_mode": {
    "name": "ipython",
    "version": 3
   },
   "file_extension": ".py",
   "mimetype": "text/x-python",
   "name": "python",
   "nbconvert_exporter": "python",
   "pygments_lexer": "ipython3",
   "version": "3.11.3"
  },
  "orig_nbformat": 4
 },
 "nbformat": 4,
 "nbformat_minor": 2
}
