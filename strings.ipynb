{
 "cells": [
  {
   "attachments": {},
   "cell_type": "markdown",
   "metadata": {},
   "source": [
    "# Strings"
   ]
  },
  {
   "cell_type": "code",
   "execution_count": 1,
   "metadata": {},
   "outputs": [
    {
     "name": "stdout",
     "output_type": "stream",
     "text": [
      "llo\n"
     ]
    }
   ],
   "source": [
    "# Create String\n",
    "my_string = \"Hello world\"\n",
    "sub_string = my_string[2:5]\n",
    "print(sub_string)"
   ]
  },
  {
   "cell_type": "code",
   "execution_count": null,
   "metadata": {},
   "outputs": [],
   "source": [
    "# String is immutable in python\n",
    "name = \"amit\"\n",
    "name[1] = 'c'\n",
    "print(name)"
   ]
  },
  {
   "cell_type": "code",
   "execution_count": 2,
   "metadata": {},
   "outputs": [
    {
     "name": "stdout",
     "output_type": "stream",
     "text": [
      "hello there\n"
     ]
    }
   ],
   "source": [
    "# Adding strings\n",
    "s1 = \"hello\"\n",
    "s2 = \"there\"\n",
    "s3 = s1+\" \"+s2\n",
    "print(s3)"
   ]
  },
  {
   "cell_type": "code",
   "execution_count": 3,
   "metadata": {},
   "outputs": [
    {
     "name": "stdout",
     "output_type": "stream",
     "text": [
      "     Hello World people     \n",
      "Hello World people\n",
      "\n",
      "HELLO WORLD PEOPLE\n",
      "hello world people\n",
      "Hello world people\n",
      "\n",
      "True\n",
      "False\n",
      "False\n"
     ]
    }
   ],
   "source": [
    "# Methods on strings\n",
    "\n",
    "string1 = \"     Hello World people     \"\n",
    "print(string1)\n",
    "\n",
    "string2 = string1.strip()    # Removes whitespaces before and after a statement\n",
    "print(string2) \n",
    "print()\n",
    "# Other methods on string\n",
    "print(string2.upper())\n",
    "print(string2.lower())\n",
    "print(string2.capitalize())\n",
    "\n",
    "print()\n",
    "print(string2.startswith(\"Hel\"))\n",
    "print(string2.startswith(\"World\"))\n",
    "print(string2.endswith(\"World\"))"
   ]
  },
  {
   "cell_type": "code",
   "execution_count": 4,
   "metadata": {},
   "outputs": [
    {
     "name": "stdout",
     "output_type": "stream",
     "text": [
      "3\n",
      "-1\n",
      "4\n",
      "Hello There people\n"
     ]
    }
   ],
   "source": [
    "# Few more metthods\n",
    "\n",
    "print(string2.find(\"lo\"))\n",
    "print(string2.find(\"sdf\"))  # If not found print -1\n",
    "print(string2.count(\"l\"))\n",
    "print(string2.replace(\"World\",\"There\"))"
   ]
  },
  {
   "cell_type": "code",
   "execution_count": 5,
   "metadata": {},
   "outputs": [
    {
     "name": "stdout",
     "output_type": "stream",
     "text": [
      "['Hello', 'how', 'are', 'you', 'today']\n",
      "Hello-how-are-you-today\n"
     ]
    }
   ],
   "source": [
    "# Convert string to list seperated by delimeter and vice-versa\n",
    "my_str = \"Hello how are you today\"\n",
    "\n",
    "# Convert to list\n",
    "my_str_list = my_str.split(\" \")\n",
    "print(my_str_list)\n",
    "\n",
    "# Convert list to string\n",
    "my_str2 = \"-\".join(my_str_list)\n",
    "print(my_str2)\n",
    "\n"
   ]
  },
  {
   "cell_type": "code",
   "execution_count": 15,
   "metadata": {},
   "outputs": [
    {
     "name": "stdout",
     "output_type": "stream",
     "text": [
      "0.005143328999110963\n",
      "0.00012455899923224933\n"
     ]
    }
   ],
   "source": [
    "# Best way to create a string from array elements\n",
    "from timeit import default_timer as timer\n",
    "my_list =  ['a'] * 10000\n",
    "\n",
    "# bad\n",
    "start = timer()\n",
    "my_string = ''\n",
    "for i in my_list:\n",
    "    my_string+=i\n",
    "\n",
    "end = timer()\n",
    "print(end-start)\n",
    "\n",
    "\n",
    "# Good\n",
    "start = timer()\n",
    "my_string2 = ''.join(my_list)\n",
    "end = timer()\n",
    "print(end-start)"
   ]
  },
  {
   "cell_type": "code",
   "execution_count": 22,
   "metadata": {},
   "outputs": [
    {
     "name": "stdout",
     "output_type": "stream",
     "text": [
      "values are x1-2, x2-amit, x3-2.315\n",
      "values are x1-2, x2-amit, x3-4.629\n",
      "values are x1-2, x2-amit, x3-2.3147295\n"
     ]
    }
   ],
   "source": [
    "# Formatting strings\n",
    "# %, .foramt(), f-Strings\n",
    "\n",
    "# 1.  % Method\n",
    "x1 = 2\n",
    "x2 = \"amit\"\n",
    "x3 = 2.3147295\n",
    "\n",
    "s1 = \"values are x1-%d, x2-%s, x3-%.3f\"%(x1, x2,x3)  # Need to specify data type\n",
    "print(s1)\n",
    "\n",
    "\n",
    "# 2. .format method\n",
    "s2 = \"values are x1-{}, x2-{}, x3-{:.3f}\".format(x1, x2,x3*2)\n",
    "print(s2)\n",
    "\n",
    "\n",
    "# 3.  f-String\n",
    "s3 = f\"values are x1-{x1}, x2-{x2}, x3-{x3}\"\n",
    "print(s3)"
   ]
  }
 ],
 "metadata": {
  "kernelspec": {
   "display_name": "jupyter",
   "language": "python",
   "name": "python3"
  },
  "language_info": {
   "codemirror_mode": {
    "name": "ipython",
    "version": 3
   },
   "file_extension": ".py",
   "mimetype": "text/x-python",
   "name": "python",
   "nbconvert_exporter": "python",
   "pygments_lexer": "ipython3",
   "version": "3.11.2"
  },
  "orig_nbformat": 4
 },
 "nbformat": 4,
 "nbformat_minor": 2
}
