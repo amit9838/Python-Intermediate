{
 "cells": [
  {
   "attachments": {},
   "cell_type": "markdown",
   "metadata": {},
   "source": [
    "# List"
   ]
  },
  {
   "attachments": {},
   "cell_type": "markdown",
   "metadata": {},
   "source": [
    "### Copying a list"
   ]
  },
  {
   "cell_type": "code",
   "execution_count": 7,
   "metadata": {},
   "outputs": [
    {
     "name": "stdout",
     "output_type": "stream",
     "text": [
      "['aaple', 'mango', 'lemon']\n",
      "\n",
      "['aaple', 'mango', 'lemon']\n",
      "['aaple', 'mango', 'lemon', 'banana']\n",
      "\n",
      "['aaple', 'mango', 'lemon']\n"
     ]
    }
   ],
   "source": [
    "# Coping a list\n",
    "\n",
    "fruits = ['aaple','mango']\n",
    "myfruits = fruits  # this dosen't copies the list, insted myfruits points to list\n",
    "myfruits.append('lemon')\n",
    "print(fruits)  # It affected the old list\n",
    "\n",
    "# Right way to make a copy of the list\n",
    "hisfruits = fruits[:]   # Copies all the items of fruits array from start index to endindex\n",
    "hisfruits.append('banana')\n",
    "print()\n",
    "print(fruits)  # Didn't affected the original list\n",
    "print(hisfruits)\n",
    "\n",
    "herfruits = fruits.copy()\n",
    "print()\n",
    "print(herfruits)"
   ]
  },
  {
   "cell_type": "code",
   "execution_count": 9,
   "metadata": {},
   "outputs": [
    {
     "data": {
      "text/plain": [
       "[1, 4, 9, 16]"
      ]
     },
     "execution_count": 9,
     "metadata": {},
     "output_type": "execute_result"
    }
   ],
   "source": [
    "# Creating a new modified list from a list\n",
    "lst = [1,2,3,4]\n",
    "newlist = [x*x for x in lst]\n",
    "newlist "
   ]
  }
 ],
 "metadata": {
  "kernelspec": {
   "display_name": "Python 3",
   "language": "python",
   "name": "python3"
  },
  "language_info": {
   "codemirror_mode": {
    "name": "ipython",
    "version": 3
   },
   "file_extension": ".py",
   "mimetype": "text/x-python",
   "name": "python",
   "nbconvert_exporter": "python",
   "pygments_lexer": "ipython3",
   "version": "3.11.2"
  },
  "orig_nbformat": 4
 },
 "nbformat": 4,
 "nbformat_minor": 2
}
