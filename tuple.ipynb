{
 "cells": [
  {
   "attachments": {},
   "cell_type": "markdown",
   "metadata": {},
   "source": [
    "# Tuples\n",
    "##### Tuple is a immutable list"
   ]
  },
  {
   "attachments": {},
   "cell_type": "markdown",
   "metadata": {},
   "source": [
    "1. Creating a tuple"
   ]
  },
  {
   "cell_type": "code",
   "execution_count": 1,
   "metadata": {},
   "outputs": [
    {
     "name": "stdout",
     "output_type": "stream",
     "text": [
      "('Max', 22, 'Rakesh')\n",
      "('Max', 'Rakesh')\n",
      "<class 'str'>\n",
      "<class 'tuple'>\n"
     ]
    }
   ],
   "source": [
    "mytuple = (\"Max\", 22, \"Rakesh\")\n",
    "print(mytuple)\n",
    "\n",
    "histuple = \"Max\", \"Rakesh\"  # Parentheses are optional\n",
    "print(histuple)\n",
    "\n",
    "# Caution  !!!!!!!!!!\n",
    "tuple1 = (\"Max\")  # It is treated as string \n",
    "tuple2 = (\"Max\",)  # Add comma at the end of the string if there is only one string\n",
    "print(type(tuple1))\n",
    "print(type(tuple2))\n"
   ]
  },
  {
   "cell_type": "code",
   "execution_count": 2,
   "metadata": {},
   "outputs": [
    {
     "name": "stdout",
     "output_type": "stream",
     "text": [
      "('hello', 'there')\n"
     ]
    }
   ],
   "source": [
    "# Creating a tuple from list\n",
    "\n",
    "mytuple = tuple([\"hello\", \"there\"])\n",
    "print(mytuple)"
   ]
  },
  {
   "attachments": {},
   "cell_type": "markdown",
   "metadata": {},
   "source": [
    "Access tuple"
   ]
  },
  {
   "cell_type": "code",
   "execution_count": 3,
   "metadata": {},
   "outputs": [
    {
     "name": "stdout",
     "output_type": "stream",
     "text": [
      "22\n",
      "Rakesh\n",
      "\n",
      "Max\n",
      "22\n",
      "Rakesh\n",
      "\n",
      "Yes--\n"
     ]
    }
   ],
   "source": [
    "mytuple = (\"Max\", 22, \"Rakesh\")\n",
    "print(mytuple[1]) # Second element\n",
    "print(mytuple[-1]) # Last element\n",
    "print()\n",
    "for i in mytuple:\n",
    "    print(i)\n",
    "\n",
    "print()\n",
    "if 22 in mytuple:\n",
    "    print(\"Yes--\")"
   ]
  },
  {
   "cell_type": "markdown",
   "metadata": {},
   "source": [
    "Changing Value"
   ]
  },
  {
   "cell_type": "code",
   "execution_count": 4,
   "metadata": {},
   "outputs": [
    {
     "ename": "TypeError",
     "evalue": "'tuple' object does not support item assignment",
     "output_type": "error",
     "traceback": [
      "\u001b[0;31m---------------------------------------------------------------------------\u001b[0m",
      "\u001b[0;31mTypeError\u001b[0m                                 Traceback (most recent call last)",
      "Cell \u001b[0;32mIn[4], line 1\u001b[0m\n\u001b[0;32m----> 1\u001b[0m mytuple[\u001b[39m1\u001b[39;49m] \u001b[39m=\u001b[39m \u001b[39m23\u001b[39m\n",
      "\u001b[0;31mTypeError\u001b[0m: 'tuple' object does not support item assignment"
     ]
    }
   ],
   "source": [
    "mytuple[1] = 23"
   ]
  },
  {
   "attachments": {},
   "cell_type": "markdown",
   "metadata": {},
   "source": [
    "Tuple methods"
   ]
  },
  {
   "cell_type": "code",
   "execution_count": null,
   "metadata": {},
   "outputs": [
    {
     "name": "stdout",
     "output_type": "stream",
     "text": [
      "('a', 'p', 'p', 'l', 'e')\n",
      "5\n",
      "\n",
      "2\n",
      "1\n",
      "['a', 'p', 'p', 'l', 'e']\n"
     ]
    }
   ],
   "source": [
    "mytuple = ('a','p','p','l','e')\n",
    "\n",
    "print(mytuple)\n",
    "print(len(mytuple)) # Count tuple elements\n",
    "print()\n",
    "\n",
    "print(mytuple.count('p'))  # Count items in a tuple\n",
    "print(mytuple.index('p'))  # Returns the first occurance of the tuple\n",
    "\n",
    "# convert to list\n",
    "my_list = list(mytuple)\n",
    "print(my_list)"
   ]
  },
  {
   "attachments": {},
   "cell_type": "markdown",
   "metadata": {},
   "source": [
    "Slicing"
   ]
  },
  {
   "cell_type": "code",
   "execution_count": null,
   "metadata": {},
   "outputs": [
    {
     "name": "stdout",
     "output_type": "stream",
     "text": [
      "('p', 'p')\n",
      "('a', 'p', 'e')\n",
      "('e', 'l', 'p', 'p', 'a')\n"
     ]
    }
   ],
   "source": [
    "new_tuple = mytuple[1:3]\n",
    "print(new_tuple)\n",
    "\n",
    "\n",
    "mytuple_x =  mytuple[::2]\n",
    "print(mytuple_x) # Prints every second element\n",
    "\n",
    "mytuple_r = mytuple[::-1]  # Trick to reverse a tuple\n",
    "print(mytuple_r)"
   ]
  },
  {
   "attachments": {},
   "cell_type": "markdown",
   "metadata": {},
   "source": [
    "Unpacking"
   ]
  },
  {
   "cell_type": "code",
   "execution_count": null,
   "metadata": {},
   "outputs": [
    {
     "name": "stdout",
     "output_type": "stream",
     "text": [
      "Amit 22 CSE\n",
      "amit\n",
      "['Physics', 'Chemistry', 'Maths']\n",
      "12\n"
     ]
    }
   ],
   "source": [
    "my_data = \"Amit\", 22, \"CSE\"\n",
    "\n",
    "name, age, branch = my_data  # number of unpacked variables mustbe same as number of elements in the tuple\n",
    "print(name,age,branch)\n",
    "\n",
    "# Unpacking into less number of variables than items present\n",
    "tuple1 = \"amit\", \"Physics\", \"Chemistry\", \"Maths\", 12\n",
    "name, *subjects, myclass = tuple1\n",
    "print(name)\n",
    "print(subjects)  # Stores all remaining elements in an array\n",
    "print(myclass)"
   ]
  },
  {
   "attachments": {},
   "cell_type": "markdown",
   "metadata": {},
   "source": [
    "#### Performance comparison with list\n",
    "Performs better than list"
   ]
  },
  {
   "cell_type": "code",
   "execution_count": null,
   "metadata": {},
   "outputs": [
    {
     "name": "stdout",
     "output_type": "stream",
     "text": [
      "104 bytes\n",
      "80 bytes\n"
     ]
    }
   ],
   "source": [
    "# Space Occupancy\n",
    "\n",
    "import sys\n",
    "\n",
    "mylist = [0,1,2,\"hello\",True]\n",
    "mytuple = (0,1,2,\"hello\",True)\n",
    "\n",
    "print(sys.getsizeof(mylist), \"bytes\")\n",
    "print(sys.getsizeof(mytuple), \"bytes\")  # Takes less spaces as compares to list for the same data"
   ]
  },
  {
   "cell_type": "code",
   "execution_count": 5,
   "metadata": {},
   "outputs": [
    {
     "name": "stdout",
     "output_type": "stream",
     "text": [
      "0.12139253100031056\n",
      "0.019456793000244943\n"
     ]
    }
   ],
   "source": [
    "# Time Comparision\n",
    "\n",
    "import timeit\n",
    "\n",
    "print(timeit.timeit(stmt=\"[0,1,2,3,4,5]\", number=1000000))\n",
    "print(timeit.timeit(stmt=\"(0,1,2,3,4,5)\", number=1000000))\n",
    "\n",
    "# stmt -> statement \n",
    "# timeit.timeit repeats the statement given number of times say 1000000"
   ]
  }
 ],
 "metadata": {
  "kernelspec": {
   "display_name": "jupyter",
   "language": "python",
   "name": "python3"
  },
  "language_info": {
   "codemirror_mode": {
    "name": "ipython",
    "version": 3
   },
   "file_extension": ".py",
   "mimetype": "text/x-python",
   "name": "python",
   "nbconvert_exporter": "python",
   "pygments_lexer": "ipython3",
   "version": "3.11.2"
  },
  "orig_nbformat": 4
 },
 "nbformat": 4,
 "nbformat_minor": 2
}
