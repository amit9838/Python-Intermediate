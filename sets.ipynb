{
 "cells": [
  {
   "attachments": {},
   "cell_type": "markdown",
   "metadata": {},
   "source": [
    "# Sets\n",
    "Ordred , mutable, no duplilcates"
   ]
  },
  {
   "cell_type": "code",
   "execution_count": 1,
   "metadata": {},
   "outputs": [
    {
     "name": "stdout",
     "output_type": "stream",
     "text": [
      "{1, 2, 3, 4, 5}\n"
     ]
    }
   ],
   "source": [
    "myset = {1,2,3,3,5,4}\n",
    "print(myset)"
   ]
  },
  {
   "cell_type": "code",
   "execution_count": 19,
   "metadata": {},
   "outputs": [
    {
     "name": "stdout",
     "output_type": "stream",
     "text": [
      "{'hi', 3, 'hello'}\n",
      "set()\n"
     ]
    }
   ],
   "source": [
    "# Creating a set\n",
    "# myset1 = {}  # It is treated as a dictonary\n",
    "\n",
    "myset1 = set()  # To create an empty set we nees to use set() function\n",
    "\n",
    "# inserting element into a set\n",
    "myset1.add(3)\n",
    "myset1.add(\"hello\")\n",
    "myset1.add(\"hi\")\n",
    "print(myset1)\n",
    "\n",
    "# Remove element from set\n",
    "myset1.remove(3)  # Raise error if element not found.\n",
    "myset1.discard(3)  # Dosen't raise the error if element not  found.\n",
    "\n",
    "myset1.pop()  # Removes random element from the set\n",
    "myset1.clear() # Clears the set\n",
    "print(myset1)\n"
   ]
  },
  {
   "cell_type": "code",
   "execution_count": 21,
   "metadata": {},
   "outputs": [
    {
     "name": "stdout",
     "output_type": "stream",
     "text": [
      "5\n",
      "11\n",
      "21\n",
      "YES\n"
     ]
    }
   ],
   "source": [
    "# Iteration in set\n",
    "myset1.add(11)\n",
    "myset1.add(21)\n",
    "myset1.add(5)\n",
    "\n",
    "for i in myset1:\n",
    "    print(i)\n",
    "\n",
    "# Check if something exists in the set\n",
    "if 21 in myset1:\n",
    "    print(\"YES\")"
   ]
  },
  {
   "attachments": {},
   "cell_type": "markdown",
   "metadata": {},
   "source": [
    "### Other Operations on set"
   ]
  },
  {
   "cell_type": "code",
   "execution_count": 24,
   "metadata": {},
   "outputs": [
    {
     "name": "stdout",
     "output_type": "stream",
     "text": [
      "{0, 1, 2, 3, 4, 5, 6, 7, 8, 9}\n",
      "{3, 5, 7}\n",
      "{1, 9}\n"
     ]
    }
   ],
   "source": [
    "odds = {1,3,5,7,9}\n",
    "evens = {0,2,4,6,8}\n",
    "primes = {2,3,5,7}\n",
    "\n",
    "# Union\n",
    "u = odds.union(evens)\n",
    "print(u)\n",
    "\n",
    "# Intersection\n",
    "inter = odds.intersection(primes)\n",
    "print(inter)\n",
    "\n",
    "# Difference\n",
    "diff = odds.difference(primes)  # Symmetric Difference is also available\n",
    "print(diff)"
   ]
  },
  {
   "cell_type": "code",
   "execution_count": 45,
   "metadata": {},
   "outputs": [
    {
     "name": "stdout",
     "output_type": "stream",
     "text": [
      "{1, 2, 3, 5, 7, 9}\n",
      "set()\n"
     ]
    }
   ],
   "source": [
    "# Update a set\n",
    "odds.update(primes)  # It is inplace\n",
    "print(odds)\n",
    "odds.difference_update(primes)  # It is inplace\n",
    "print(odds)"
   ]
  },
  {
   "cell_type": "code",
   "execution_count": 49,
   "metadata": {},
   "outputs": [
    {
     "name": "stdout",
     "output_type": "stream",
     "text": [
      "True\n",
      "True\n",
      "True\n"
     ]
    }
   ],
   "source": [
    "setA = {1,2,3,4,5,6,7}\n",
    "setB = {1,2,3}\n",
    "setC = {8,9}\n",
    "print(setB.issubset(setA))\n",
    "print(setA.issuperset(setB))\n",
    "\n",
    "print(setA.isdisjoint(setC))"
   ]
  },
  {
   "attachments": {},
   "cell_type": "markdown",
   "metadata": {},
   "source": [
    "# Frozenset\n",
    "Imutabe sets"
   ]
  },
  {
   "cell_type": "code",
   "execution_count": 54,
   "metadata": {},
   "outputs": [
    {
     "name": "stdout",
     "output_type": "stream",
     "text": [
      "frozenset({1, 3, 44, 7})\n"
     ]
    },
    {
     "ename": "AttributeError",
     "evalue": "'frozenset' object has no attribute 'add'",
     "output_type": "error",
     "traceback": [
      "\u001b[0;31m---------------------------------------------------------------------------\u001b[0m",
      "\u001b[0;31mAttributeError\u001b[0m                            Traceback (most recent call last)",
      "Cell \u001b[0;32mIn[54], line 4\u001b[0m\n\u001b[1;32m      2\u001b[0m a \u001b[39m=\u001b[39m \u001b[39mfrozenset\u001b[39m([\u001b[39m1\u001b[39m,\u001b[39m3\u001b[39m,\u001b[39m44\u001b[39m,\u001b[39m7\u001b[39m])\n\u001b[1;32m      3\u001b[0m \u001b[39mprint\u001b[39m(a)\n\u001b[0;32m----> 4\u001b[0m a\u001b[39m.\u001b[39;49madd(\u001b[39m2\u001b[39m)\n\u001b[1;32m      5\u001b[0m a\u001b[39m.\u001b[39mremove(\u001b[39m1\u001b[39m)\n",
      "\u001b[0;31mAttributeError\u001b[0m: 'frozenset' object has no attribute 'add'"
     ]
    }
   ],
   "source": [
    "# Can't modify frozen set once created\n",
    "a = frozenset([1,3,44,7])\n",
    "print(a)\n",
    "a.add(2)\n",
    "a.remove(1)"
   ]
  }
 ],
 "metadata": {
  "kernelspec": {
   "display_name": "jupyter",
   "language": "python",
   "name": "python3"
  },
  "language_info": {
   "codemirror_mode": {
    "name": "ipython",
    "version": 3
   },
   "file_extension": ".py",
   "mimetype": "text/x-python",
   "name": "python",
   "nbconvert_exporter": "python",
   "pygments_lexer": "ipython3",
   "version": "3.11.3"
  },
  "orig_nbformat": 4
 },
 "nbformat": 4,
 "nbformat_minor": 2
}
