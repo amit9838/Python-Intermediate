{
 "cells": [
  {
   "attachments": {},
   "cell_type": "markdown",
   "metadata": {},
   "source": [
    "# Dictonaries\n",
    "\n",
    "-  Key-value pairs,  Unordered,  Mutable"
   ]
  },
  {
   "cell_type": "code",
   "execution_count": 49,
   "metadata": {},
   "outputs": [
    {
     "name": "stdout",
     "output_type": "stream",
     "text": [
      "{'name': 'Max', 'age': 22, 'city': 'Delhi'}\n",
      "{'name': 'Amit', 'age': 22, 'city': 'Delhi'}\n"
     ]
    }
   ],
   "source": [
    "# Cereating a dictonary\n",
    "\n",
    "mydict = {\"name\": \"Max\", \"age\":22, \"city\":\"Delhi\"}\n",
    "print(mydict)\n",
    "\n",
    "mydict2 = dict(name=\"Amit\", age=22,city=\"Delhi\")\n",
    "print(mydict2)\n",
    "\n"
   ]
  },
  {
   "cell_type": "code",
   "execution_count": 50,
   "metadata": {},
   "outputs": [
    {
     "name": "stdout",
     "output_type": "stream",
     "text": [
      "{'name': 'Max', 'age': 22, 'city': 'Delhi', 'email': 'abc@xyz.com'}\n",
      "{'name': 'Max', 'age': 22, 'city': 'Delhi', 'email': 'abc@xyz.co.in'}\n"
     ]
    }
   ],
   "source": [
    "# Access Dictonary\n",
    "\n",
    "# Insert a value corresponding to a key\n",
    "mydict['email'] = \"abc@xyz.com\"\n",
    "print(mydict)\n",
    "\n",
    "# It overwrites if the key already exist\n",
    "mydict['email'] = \"abc@xyz.co.in\"\n",
    "print(mydict)"
   ]
  },
  {
   "cell_type": "code",
   "execution_count": 51,
   "metadata": {},
   "outputs": [
    {
     "name": "stdout",
     "output_type": "stream",
     "text": [
      "{'name': 'Max', 'age': 22, 'city': 'Delhi'}\n",
      "{'name': 'Max', 'age': 22}\n",
      "{'age': 22}\n"
     ]
    }
   ],
   "source": [
    "# Delete in a dictonary\n",
    "\n",
    "# Delete element with a specific key\n",
    "mydict.pop(\"email\")\n",
    "print(mydict)\n",
    "\n",
    "# Delete last element \n",
    "mydict.popitem()\n",
    "print(mydict)\n",
    "\n",
    "\n",
    "del mydict['name']\n",
    "print(mydict)"
   ]
  },
  {
   "cell_type": "code",
   "execution_count": 52,
   "metadata": {},
   "outputs": [
    {
     "name": "stdout",
     "output_type": "stream",
     "text": [
      "present\n",
      "22\n"
     ]
    }
   ],
   "source": [
    "# Check if item is present in a dictoanry\n",
    "if 'age' in mydict:  # Checks for the key only\n",
    "    print(\"present\")\n",
    "\n",
    "# Method 2\n",
    "\n",
    "try:\n",
    "    print(mydict['age'])  # Checks for the key only\n",
    "except:\n",
    "    print(\"Error\")\n"
   ]
  },
  {
   "cell_type": "code",
   "execution_count": 53,
   "metadata": {},
   "outputs": [
    {
     "name": "stdout",
     "output_type": "stream",
     "text": [
      "name\n",
      "age\n",
      "city\n",
      "\n",
      "Max\n",
      "22\n",
      "Delhi\n",
      "name Max\n",
      "age 22\n",
      "city Delhi\n"
     ]
    }
   ],
   "source": [
    "# Traversing dictonary\n",
    "\n",
    "mydict = {\"name\": \"Max\", \"age\":22, \"city\":\"Delhi\"}\n",
    "\n",
    "# Loop over keys\n",
    "for key in mydict.keys():\n",
    "    print(key) \n",
    "\n",
    "print()\n",
    "\n",
    "# Loop over values\n",
    "for val in mydict.values():\n",
    "    print(val) \n",
    "\n",
    "\n",
    "for k,v in mydict.items():\n",
    "    print(k,v)\n",
    "\n",
    " "
   ]
  },
  {
   "cell_type": "code",
   "execution_count": 54,
   "metadata": {},
   "outputs": [
    {
     "name": "stdout",
     "output_type": "stream",
     "text": [
      "{'name': 'Max', 'age': 22, 'city': 'Delhi', 'add': 'delhi'}\n",
      "{'name': 'Max', 'age': 22, 'city': 'Delhi'}\n",
      "{'name': 'Max', 'age': 22, 'city': 'Delhi'}\n"
     ]
    }
   ],
   "source": [
    "# Copying a dictoanry\n",
    "\n",
    "dict1 = mydict\n",
    "dict2 = mydict.copy()  # Ceeates new copy\n",
    "dict3 = dict(mydict)   # Creates new copy\n",
    "dict1[\"add\"] = \"delhi\"\n",
    "print(dict1)\n",
    "print(dict2)\n",
    "print(dict3)\n",
    "\n"
   ]
  },
  {
   "cell_type": "code",
   "execution_count": 59,
   "metadata": {},
   "outputs": [
    {
     "name": "stdout",
     "output_type": "stream",
     "text": [
      "{'name': 'Amit', 'age': 22, 'city': 'Delhi', 'add': 'delhi', 'branch': 'CSE'}\n"
     ]
    }
   ],
   "source": [
    "# update a dictonary\n",
    "# If key not present create new one else update the original value\n",
    "data = dict(name=\"Amit\", branch = \"CSE\")\n",
    "\n",
    "mydict.update(data) \n",
    "print(mydict)"
   ]
  }
 ],
 "metadata": {
  "kernelspec": {
   "display_name": "jupyter",
   "language": "python",
   "name": "python3"
  },
  "language_info": {
   "codemirror_mode": {
    "name": "ipython",
    "version": 3
   },
   "file_extension": ".py",
   "mimetype": "text/x-python",
   "name": "python",
   "nbconvert_exporter": "python",
   "pygments_lexer": "ipython3",
   "version": "3.11.2"
  },
  "orig_nbformat": 4
 },
 "nbformat": 4,
 "nbformat_minor": 2
}
