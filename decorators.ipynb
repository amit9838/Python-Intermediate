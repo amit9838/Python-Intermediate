{
 "cells": [
  {
   "attachments": {},
   "cell_type": "markdown",
   "metadata": {},
   "source": [
    "# Decorators\n",
    "It takes a function as an argumnt and modifies the beaviour of the input function"
   ]
  },
  {
   "cell_type": "code",
   "execution_count": 91,
   "metadata": {},
   "outputs": [
    {
     "name": "stdout",
     "output_type": "stream",
     "text": [
      "4\n"
     ]
    }
   ],
   "source": [
    "# Normal function in python\n",
    "\n",
    "def add_one(n):\n",
    "    return n+1\n",
    "\n",
    "print(add_one(3))"
   ]
  },
  {
   "attachments": {},
   "cell_type": "markdown",
   "metadata": {},
   "source": [
    "### First-Class Objects\n",
    "In Python, functions are first-class objects. This means that functions can be passed around and used as arguments, just like any other object (string, int, float, list, and so on). Consider the following three functions:\n"
   ]
  },
  {
   "cell_type": "code",
   "execution_count": 92,
   "metadata": {},
   "outputs": [
    {
     "data": {
      "text/plain": [
       "'Hello Bob'"
      ]
     },
     "execution_count": 92,
     "metadata": {},
     "output_type": "execute_result"
    }
   ],
   "source": [
    "def say_hello(name):\n",
    "    return f\"Hello {name}\"\n",
    "\n",
    "def greet_bob(greater_fun):\n",
    "    return greater_fun(\"Bob\")\n",
    "\n",
    "greet_bob(say_hello)"
   ]
  },
  {
   "attachments": {},
   "cell_type": "markdown",
   "metadata": {},
   "source": [
    "### Inner Functions\n",
    "It’s possible to define functions inside other functions. Such functions are called inner functions. Here’s an example of a function with two inner functions:"
   ]
  },
  {
   "cell_type": "code",
   "execution_count": 93,
   "metadata": {},
   "outputs": [
    {
     "name": "stdout",
     "output_type": "stream",
     "text": [
      "Printing from the parent() function\n",
      "Printing from the second_child() function\n",
      "Printing from the first_child() function\n"
     ]
    }
   ],
   "source": [
    "def parent():\n",
    "    print(\"Printing from the parent() function\")\n",
    "\n",
    "    def first_child():\n",
    "        print(\"Printing from the first_child() function\")\n",
    "\n",
    "    def second_child():\n",
    "        print(\"Printing from the second_child() function\")\n",
    "\n",
    "    second_child()\n",
    "    first_child()\n",
    "\n",
    "parent()"
   ]
  },
  {
   "cell_type": "code",
   "execution_count": 94,
   "metadata": {},
   "outputs": [
    {
     "ename": "NameError",
     "evalue": "name 'second_child' is not defined",
     "output_type": "error",
     "traceback": [
      "\u001b[0;31m---------------------------------------------------------------------------\u001b[0m",
      "\u001b[0;31mNameError\u001b[0m                                 Traceback (most recent call last)",
      "Cell \u001b[0;32mIn[94], line 3\u001b[0m\n\u001b[1;32m      1\u001b[0m \u001b[39m# Functions defined inside the parent function are defined in local scope ,\u001b[39;00m\n\u001b[1;32m      2\u001b[0m \u001b[39m# therefore they can't be accessed outside of the class , and are called only when parent function is called\u001b[39;00m\n\u001b[0;32m----> 3\u001b[0m second_child()\n",
      "\u001b[0;31mNameError\u001b[0m: name 'second_child' is not defined"
     ]
    }
   ],
   "source": [
    "# Functions defined inside the parent function are defined in local scope ,\n",
    "# therefore they can't be accessed outside of the class , and are called only when parent function is called\n",
    "second_child()"
   ]
  },
  {
   "attachments": {},
   "cell_type": "markdown",
   "metadata": {},
   "source": [
    "### Simple Decorators"
   ]
  },
  {
   "cell_type": "code",
   "execution_count": null,
   "metadata": {},
   "outputs": [
    {
     "name": "stdout",
     "output_type": "stream",
     "text": [
      "Something is happning before function call\n",
      "Hi\n",
      "Something is happning after function call\n"
     ]
    }
   ],
   "source": [
    "def my_decorator(func):\n",
    "    def wrapper():\n",
    "        print(\"Something is happning before function call\")\n",
    "        func()\n",
    "        print(\"Something is happning after function call\")\n",
    "    return wrapper\n",
    "\n",
    "def say_hi():\n",
    "    print(\"Hi\")\n",
    "\n",
    "say_hi1 = my_decorator(say_hi)   # Applying decorator on 'say_hi()' function\n",
    "\n",
    "say_hi1()"
   ]
  },
  {
   "cell_type": "code",
   "execution_count": null,
   "metadata": {},
   "outputs": [
    {
     "data": {
      "text/plain": [
       "<function __main__.my_decorator.<locals>.wrapper()>"
      ]
     },
     "execution_count": 9,
     "metadata": {},
     "output_type": "execute_result"
    }
   ],
   "source": [
    "say_hi1\n",
    "\n",
    "# Decorators wrap a function, modifying its behavior."
   ]
  },
  {
   "cell_type": "code",
   "execution_count": null,
   "metadata": {},
   "outputs": [
    {
     "name": "stdout",
     "output_type": "stream",
     "text": [
      "say_hi\n"
     ]
    }
   ],
   "source": [
    "# In this example decorated code runs only during the day\n",
    "from datetime import datetime\n",
    "\n",
    "def not_during_the_night(func):\n",
    "    def wrapper():\n",
    "        if 7<= datetime.now().hour <22:\n",
    "            func()\n",
    "        else:\n",
    "            pass\n",
    "    return wrapper\n",
    "\n",
    "\n",
    "def say_hi():\n",
    "    print(\"say_hi\")\n",
    "\n",
    "say_hi1 = not_during_the_night(say_hi)\n",
    "\n",
    "say_hi1()"
   ]
  },
  {
   "attachments": {},
   "cell_type": "markdown",
   "metadata": {},
   "source": [
    "### Syntactic Sugar!"
   ]
  },
  {
   "cell_type": "code",
   "execution_count": null,
   "metadata": {},
   "outputs": [
    {
     "name": "stdout",
     "output_type": "stream",
     "text": [
      "Something is happening before the function is called.\n",
      "hiiii\n",
      "Something is happening after the function is called.\n"
     ]
    }
   ],
   "source": [
    "def my_decorator(func):\n",
    "    def wrapper():\n",
    "        print(\"Something is happening before the function is called.\")\n",
    "        func()\n",
    "        print(\"Something is happening after the function is called.\")\n",
    "    return wrapper\n",
    "\n",
    "@my_decorator  # Applying the decorator on a function (better way)\n",
    "def say_hi():\n",
    "    print(\"hiiii\")\n",
    "\n",
    "say_hi()"
   ]
  },
  {
   "attachments": {},
   "cell_type": "markdown",
   "metadata": {},
   "source": [
    "### Decorating Functions With Arguments"
   ]
  },
  {
   "cell_type": "code",
   "execution_count": null,
   "metadata": {},
   "outputs": [
    {
     "ename": "TypeError",
     "evalue": "do_twice.<locals>.wrapper_do_twice() takes 0 positional arguments but 1 was given",
     "output_type": "error",
     "traceback": [
      "\u001b[0;31m---------------------------------------------------------------------------\u001b[0m",
      "\u001b[0;31mTypeError\u001b[0m                                 Traceback (most recent call last)",
      "Cell \u001b[0;32mIn[32], line 7\u001b[0m\n\u001b[1;32m      3\u001b[0m \u001b[39m@do_twice\u001b[39m\n\u001b[1;32m      4\u001b[0m \u001b[39mdef\u001b[39;00m \u001b[39mgreet\u001b[39m(name):\n\u001b[1;32m      5\u001b[0m     \u001b[39mprint\u001b[39m(\u001b[39mf\u001b[39m\u001b[39m\"\u001b[39m\u001b[39mHello \u001b[39m\u001b[39m{\u001b[39;00mname\u001b[39m}\u001b[39;00m\u001b[39m\"\u001b[39m)\n\u001b[0;32m----> 7\u001b[0m greet(\u001b[39m\"\u001b[39;49m\u001b[39mworld\u001b[39;49m\u001b[39m\"\u001b[39;49m)\n",
      "\u001b[0;31mTypeError\u001b[0m: do_twice.<locals>.wrapper_do_twice() takes 0 positional arguments but 1 was given"
     ]
    }
   ],
   "source": [
    "from Decorators.decorators import do_twice\n",
    "\n",
    "@do_twice\n",
    "def greet(name):\n",
    "    print(f\"Hello {name}\")\n",
    "\n",
    "greet(\"world\")"
   ]
  },
  {
   "attachments": {},
   "cell_type": "markdown",
   "metadata": {},
   "source": [
    "The problem is that the inner function wrapper_do_twice() does not take any arguments, but name=\"World\" was passed to it. You could fix this by letting wrapper_do_twice() accept one argument, but then it would not work for the say_whee() function you created earlier.\n",
    "\n",
    "The solution is to use *args and **kwargs in the inner wrapper function. Then it will accept an arbitrary number of positional and keyword arguments. Rewrite decorators.py as follows:\n",
    "\n",
    "\n",
    "\n",
    "```python\n",
    "def do_twice(func):\n",
    "    def wrapper_do_twice(*args, **kwargs):\n",
    "        func(*args, **kwargs)\n",
    "        func(*args, **kwargs)\n",
    "    return wrapper_do_twice\n",
    "```\n"
   ]
  },
  {
   "cell_type": "code",
   "execution_count": null,
   "metadata": {},
   "outputs": [
    {
     "name": "stdout",
     "output_type": "stream",
     "text": [
      "Hello world\n",
      "Hello world\n",
      "Hello world\n"
     ]
    }
   ],
   "source": [
    "from Decorators.decorators_new import do_thrice\n",
    "\n",
    "@do_thrice\n",
    "def greet(name):\n",
    "    print(f\"Hello {name}\")\n",
    "\n",
    "greet(\"world\")"
   ]
  },
  {
   "cell_type": "code",
   "execution_count": null,
   "metadata": {},
   "outputs": [
    {
     "name": "stdout",
     "output_type": "stream",
     "text": [
      "Creating greeting\n",
      "Creating greeting\n",
      "Creating greeting\n",
      "Hi rohit\n"
     ]
    }
   ],
   "source": [
    "@do_thrice\n",
    "def return_greeting(name):\n",
    "    print(\"Creating greeting\")\n",
    "    return f\"Hi {name}\"\n",
    "\n",
    "hi_rohit = return_greeting(\"rohit\")\n",
    "print(hi_rohit) # Here decorater returned nothing\n"
   ]
  },
  {
   "attachments": {},
   "cell_type": "markdown",
   "metadata": {},
   "source": [
    "### Function identity"
   ]
  },
  {
   "cell_type": "code",
   "execution_count": null,
   "metadata": {},
   "outputs": [
    {
     "data": {
      "text/plain": [
       "<function print(*args, sep=' ', end='\\n', file=None, flush=False)>"
      ]
     },
     "execution_count": 13,
     "metadata": {},
     "output_type": "execute_result"
    }
   ],
   "source": [
    "print"
   ]
  },
  {
   "cell_type": "code",
   "execution_count": null,
   "metadata": {},
   "outputs": [
    {
     "data": {
      "text/plain": [
       "'print'"
      ]
     },
     "execution_count": 7,
     "metadata": {},
     "output_type": "execute_result"
    }
   ],
   "source": [
    "print.__name__"
   ]
  },
  {
   "cell_type": "code",
   "execution_count": null,
   "metadata": {},
   "outputs": [
    {
     "name": "stdout",
     "output_type": "stream",
     "text": [
      "Help on built-in function print in module builtins:\n",
      "\n",
      "print(*args, sep=' ', end='\\n', file=None, flush=False)\n",
      "    Prints the values to a stream, or to sys.stdout by default.\n",
      "    \n",
      "    sep\n",
      "      string inserted between values, default a space.\n",
      "    end\n",
      "      string appended after the last value, default a newline.\n",
      "    file\n",
      "      a file-like object (stream); defaults to the current sys.stdout.\n",
      "    flush\n",
      "      whether to forcibly flush the stream.\n",
      "\n"
     ]
    }
   ],
   "source": [
    "help(print)"
   ]
  },
  {
   "cell_type": "code",
   "execution_count": null,
   "metadata": {},
   "outputs": [
    {
     "name": "stdout",
     "output_type": "stream",
     "text": [
      "<function add_one at 0x7f8af4006700>\n",
      "add_one\n",
      "Help on function add_one in module __main__:\n",
      "\n",
      "add_one(n)\n",
      "\n",
      "None\n"
     ]
    }
   ],
   "source": [
    "# The introspection works for functions you define yourself as well:\n",
    "print(add_one)\n",
    "print(add_one.__name__)\n",
    "print(help(add_one))\n"
   ]
  },
  {
   "cell_type": "code",
   "execution_count": null,
   "metadata": {},
   "outputs": [
    {
     "name": "stdout",
     "output_type": "stream",
     "text": [
      "<function do_thrice.<locals>.wrapper_do_thrice at 0x7f8af415f740>\n",
      "wrapper_do_thrice\n",
      "Help on function wrapper_do_thrice in module Decorators.decorators_new:\n",
      "\n",
      "wrapper_do_thrice(*args, **kwargs)\n",
      "\n",
      "None\n"
     ]
    }
   ],
   "source": [
    "# Similarly is should work after applying decorator\n",
    "print(greet)\n",
    "print(greet.__name__)  # here function has lost its identity\n",
    "print(help(greet))  # here function has lost its identity"
   ]
  },
  {
   "attachments": {},
   "cell_type": "markdown",
   "metadata": {},
   "source": [
    "To retaion the identity of original function even after applying decorator, we should add the\\\n",
    "the following in the decorator function\n",
    "\n",
    "```python\n",
    "import functools\n",
    "\n",
    "def do_twice(func):\n",
    "    @functools.wraps(func)\n",
    "    def wrapper_do_twice(*args, **kwargs):\n",
    "        func(*args, **kwargs)\n",
    "        return func(*args, **kwargs)\n",
    "    return wrapper_do_twice\n",
    "```"
   ]
  },
  {
   "cell_type": "code",
   "execution_count": null,
   "metadata": {},
   "outputs": [
    {
     "data": {
      "text/plain": [
       "<function __main__.new_greet(name)>"
      ]
     },
     "execution_count": 21,
     "metadata": {},
     "output_type": "execute_result"
    }
   ],
   "source": [
    "# Similarly is should work after applying decorator\n",
    "\n",
    "from Decorators.decorators_new import do_thrice2\n",
    "\n",
    "@do_thrice2\n",
    "def new_greet(name):\n",
    "    print(f\"hello {name}\")\n"
   ]
  },
  {
   "cell_type": "code",
   "execution_count": null,
   "metadata": {},
   "outputs": [
    {
     "name": "stdout",
     "output_type": "stream",
     "text": [
      "<function new_greet at 0x7f8af3074e00>\n",
      "new_greet\n",
      "Help on function new_greet in module __main__:\n",
      "\n",
      "new_greet(name)\n",
      "\n",
      "None\n"
     ]
    }
   ],
   "source": [
    "print(new_greet)  # here identity not lost\n",
    "print(new_greet.__name__)\n",
    "print(help(new_greet))"
   ]
  },
  {
   "attachments": {},
   "cell_type": "markdown",
   "metadata": {},
   "source": [
    "### Real World Examples\n",
    "This formula is a good boilerplate template for building more complex decorators"
   ]
  },
  {
   "cell_type": "code",
   "execution_count": null,
   "metadata": {},
   "outputs": [],
   "source": [
    "import functools\n",
    "\n",
    "def decorator(func):\n",
    "    @functools.wraps(func)\n",
    "    def wrapper_decorator(*args, **kwargs):\n",
    "        # Do something before\n",
    "        value = func(*args, **kwargs)\n",
    "        # Do something after\n",
    "        return value\n",
    "    return wrapper_decorator\n"
   ]
  },
  {
   "cell_type": "code",
   "execution_count": 97,
   "metadata": {},
   "outputs": [],
   "source": [
    "# Creating timer decorator\n",
    "\n",
    "import functools\n",
    "import time\n",
    "\n",
    "def timer(func):\n",
    "    \"\"\"Print the runtime of the decortated function\"\"\"\n",
    "    @functools.wraps(func)\n",
    "    def wrapper_timer(*args,**kwargs):\n",
    "        start_time = time.perf_counter() #1\n",
    "        value = func(*args,**kwargs)\n",
    "        end_time = time.perf_counter()  #1\n",
    "        run_time = end_time-start_time\n",
    "        print(f\"Finished {func.__name__!r} in {run_time:.4f} secs\")\n",
    "        return value\n",
    "    return wrapper_timer\n",
    "\n",
    "\n"
   ]
  },
  {
   "cell_type": "code",
   "execution_count": null,
   "metadata": {},
   "outputs": [
    {
     "name": "stdout",
     "output_type": "stream",
     "text": [
      "Finished 'waste_some_time' in 0.0013 secs\n",
      "None\n"
     ]
    }
   ],
   "source": [
    "@timer\n",
    "def waste_some_time(num_times):\n",
    "    for _ in range(num_times):\n",
    "        sum([i**2 for i in range(10000)])\n",
    "    # return \"finished \"\n",
    "\n",
    "\n",
    "print(waste_some_time(1))"
   ]
  },
  {
   "cell_type": "code",
   "execution_count": null,
   "metadata": {},
   "outputs": [
    {
     "name": "stdout",
     "output_type": "stream",
     "text": [
      "Finished 'waste_some_time' in 0.7958 secs\n",
      "None\n"
     ]
    }
   ],
   "source": [
    "print(waste_some_time(1000))"
   ]
  },
  {
   "attachments": {},
   "cell_type": "markdown",
   "metadata": {},
   "source": [
    "### Debugging Code using decorator"
   ]
  },
  {
   "cell_type": "code",
   "execution_count": 96,
   "metadata": {},
   "outputs": [],
   "source": [
    "import functools\n",
    "\n",
    "def debug(func):\n",
    "    \"\"\"Print the function signature and return value\"\"\"\n",
    "    @functools.wraps(func)\n",
    "    def wrpapper_debug(*args,**kwargs):\n",
    "        args_repr = [repr(a) for a in args]                         #1\n",
    "        kwargs_repr = [f\"{k}={v!r}\" for k, v in kwargs.items()]     #2\n",
    "        signature = \", \".join(args_repr+kwargs_repr)                #3\n",
    "        print(f\"calling {func.__name__}({signature})\")\n",
    "        value = func(*args,**kwargs)\n",
    "        print(f\"{func.__name__!r} retuened {value!r}\")              #4\n",
    "        return value\n",
    "    return wrpapper_debug\n",
    "\n",
    "\n",
    "# 1.Create a list of the positional arguments. Use repr() to get a nice string representing each argument.\n",
    "\n",
    "# 2.Create a list of the keyword arguments. The f-string formats each argument as key=value where \n",
    "# the !r specifier means that repr() is used to represent the value.\n",
    "\n",
    "# 3.The lists of positional and keyword arguments is joined together to one signature string with each argument separated by a comma.\n",
    "\n",
    "# 4.The return value is printed after the function is executed.\n"
   ]
  },
  {
   "cell_type": "code",
   "execution_count": null,
   "metadata": {},
   "outputs": [],
   "source": [
    "@debug\n",
    "def make_greeting(name, age=None):\n",
    "    if age is None:\n",
    "        return f\"Howdy {name}!\"\n",
    "    else:\n",
    "        return f\"Whoa {name}! {age} already, you are growing up!\"\n"
   ]
  },
  {
   "cell_type": "code",
   "execution_count": null,
   "metadata": {},
   "outputs": [
    {
     "name": "stdout",
     "output_type": "stream",
     "text": [
      "calling make_greeting('amit')\n",
      "'make_greeting' retuened 'Howdy amit!'\n"
     ]
    },
    {
     "data": {
      "text/plain": [
       "'Howdy amit!'"
      ]
     },
     "execution_count": 54,
     "metadata": {},
     "output_type": "execute_result"
    }
   ],
   "source": [
    "make_greeting(\"amit\")"
   ]
  },
  {
   "cell_type": "code",
   "execution_count": null,
   "metadata": {},
   "outputs": [
    {
     "name": "stdout",
     "output_type": "stream",
     "text": [
      "calling make_greeting('Rohit', 23)\n",
      "'make_greeting' retuened 'Whoa Rohit! 23 already, you are growing up!'\n"
     ]
    },
    {
     "data": {
      "text/plain": [
       "'Whoa Rohit! 23 already, you are growing up!'"
      ]
     },
     "execution_count": 55,
     "metadata": {},
     "output_type": "execute_result"
    }
   ],
   "source": [
    "make_greeting(\"Rohit\",23)"
   ]
  },
  {
   "cell_type": "code",
   "execution_count": null,
   "metadata": {},
   "outputs": [
    {
     "name": "stdout",
     "output_type": "stream",
     "text": [
      "calling factorial(0)\n",
      "calling factorial(0)\n",
      "calling factorial(0)\n",
      "'factorial' retuened 1\n",
      "'factorial' retuened 1\n",
      "'factorial' retuened 1\n",
      "calling factorial(1)\n",
      "calling factorial(1)\n",
      "calling factorial(1)\n",
      "'factorial' retuened 1\n",
      "'factorial' retuened 1\n",
      "'factorial' retuened 1\n"
     ]
    },
    {
     "data": {
      "text/plain": [
       "2.0"
      ]
     },
     "execution_count": 58,
     "metadata": {},
     "output_type": "execute_result"
    }
   ],
   "source": [
    "import math\n",
    "\n",
    "\n",
    "# Apply a decorator to a standard library function\n",
    "math.factorial = debug(math.factorial)\n",
    "\n",
    "def approximate_e(terms=18):\n",
    "    return sum(1 / math.factorial(n) for n in range(terms))\n",
    "\n",
    "approximate_e(2)"
   ]
  },
  {
   "attachments": {},
   "cell_type": "markdown",
   "metadata": {},
   "source": [
    "### Slowing Down Code\n"
   ]
  },
  {
   "cell_type": "code",
   "execution_count": null,
   "metadata": {},
   "outputs": [
    {
     "name": "stdout",
     "output_type": "stream",
     "text": [
      "5\n",
      "4\n",
      "3\n",
      "2\n",
      "1\n",
      "Lift off!\n"
     ]
    }
   ],
   "source": [
    "import functools\n",
    "import time\n",
    "\n",
    "def slow_down(func):\n",
    "    \"\"\"Sleep 1 second before calling the function\"\"\"\n",
    "    @functools.wraps(func)\n",
    "    def wrapper_slow_down(*args,**kwargs):\n",
    "        time.sleep(1)  # sleep for 1 sec\n",
    "        return func(*args,**kwargs)\n",
    "    return wrapper_slow_down\n",
    "\n",
    "@slow_down\n",
    "def count_down(from_number):\n",
    "    if from_number < 1 :\n",
    "        print(\"Lift off!\")\n",
    "    else:\n",
    "        print(from_number)\n",
    "        count_down(from_number-1)\n",
    "    \n",
    "\n",
    "count_down(5)"
   ]
  },
  {
   "attachments": {},
   "cell_type": "markdown",
   "metadata": {},
   "source": [
    "### Registering plugins\n",
    "This can be used, for instance, to create a light-weight plug-in architecture:"
   ]
  },
  {
   "cell_type": "code",
   "execution_count": null,
   "metadata": {},
   "outputs": [
    {
     "data": {
      "text/plain": [
       "{'say_hello': <function __main__.say_hello(name)>,\n",
       " 'be_aweseome': <function __main__.be_aweseome(name)>}"
      ]
     },
     "execution_count": 47,
     "metadata": {},
     "output_type": "execute_result"
    }
   ],
   "source": [
    "import random\n",
    "PLUGINS = dict()\n",
    "\n",
    "def register(func):\n",
    "    \"\"\"Register a function as a plug-in\"\"\"\n",
    "    PLUGINS[func.__name__] = func\n",
    "    return func\n",
    "\n",
    "@register\n",
    "def say_hello(name):\n",
    "    return f\"Hello {name}\"\n",
    "\n",
    "@register\n",
    "def be_aweseome(name):\n",
    "    return f\"{name}, you are awesome!\"\n",
    "\n",
    "\n",
    "def randomly_greet(name):\n",
    "    greeter, greeter_func = random.choice(list(PLUGINS.items()))\n",
    "    print(f\"Using {greeter!r}\")\n",
    "    return greeter_func(name)\n",
    "\n",
    "\n",
    "PLUGINS"
   ]
  },
  {
   "cell_type": "code",
   "execution_count": null,
   "metadata": {},
   "outputs": [
    {
     "name": "stdout",
     "output_type": "stream",
     "text": [
      "Using 'be_aweseome'\n"
     ]
    },
    {
     "data": {
      "text/plain": [
       "'amit, you are awesome!'"
      ]
     },
     "execution_count": 48,
     "metadata": {},
     "output_type": "execute_result"
    }
   ],
   "source": [
    "randomly_greet(\"amit\")"
   ]
  },
  {
   "cell_type": "code",
   "execution_count": null,
   "metadata": {},
   "outputs": [
    {
     "data": {
      "text/plain": [
       "{'__name__': '__main__',\n",
       " '__doc__': 'Automatically created module for IPython interactive environment',\n",
       " '__package__': None,\n",
       " '__loader__': None,\n",
       " '__spec__': None,\n",
       " '__builtin__': <module 'builtins' (built-in)>,\n",
       " '__builtins__': <module 'builtins' (built-in)>,\n",
       " '_ih': ['',\n",
       "  'import random\\nPLUGINS = dict()\\n\\ndef register(func):\\n    \"\"\"Register a function as a plug-in\"\"\"\\n    PLUGINS[func.__name__] = func',\n",
       "  'import random\\nPLUGINS = dict()\\n\\ndef register(func):\\n    \"\"\"Register a function as a plug-in\"\"\"\\n    PLUGINS[func.__name__] = func\\n    return func\\n\\n@register\\ndef say_hello(name):\\n    return f\"Hello {name}\"\\n\\ndef be_aweseome(name):\\n    return f\"{name}, you are awesome!\"\\n\\n\\ndef randomly_greet(name):\\n    greeter, greeter_func = random.choice(list(PLUGINS.items()))\\n    print(f\"Using {greeter!r}\")\\n    return greeter_func(name)',\n",
       "  'randomly_greet(\"amit\")',\n",
       "  'randomly_greet(\"amit\")',\n",
       "  'randomly_greet(\"amit\")',\n",
       "  'randomly_greet(\"amit\")',\n",
       "  'randomly_greet(\"amit\")',\n",
       "  'randomly_greet(\"amit\")',\n",
       "  'randomly_greet(\"amit\")',\n",
       "  'randomly_greet(\"amit\")',\n",
       "  'randomly_greet(\"amit\")',\n",
       "  'randomly_greet(\"amit\")',\n",
       "  'randomly_greet(\"amit\")',\n",
       "  'randomly_greet(\"amit\")',\n",
       "  'randomly_greet(\"amit\")',\n",
       "  'randomly_greet(\"amit\")',\n",
       "  'randomly_greet(\"amit\")',\n",
       "  'randomly_greet(\"amit\")',\n",
       "  'randomly_greet(\"amit\")',\n",
       "  'randomly_greet(\"amit\")',\n",
       "  'randomly_greet(\"amit\")',\n",
       "  'randomly_greet(\"amit\")',\n",
       "  'randomly_greet(\"amit\")',\n",
       "  'randomly_greet(\"amit\")',\n",
       "  'randomly_greet(\"amit\")',\n",
       "  'randomly_greet(\"amit\")',\n",
       "  'randomly_greet(\"amit\")',\n",
       "  'randomly_greet(\"amit\")',\n",
       "  'randomly_greet(\"amit\")',\n",
       "  'randomly_greet(\"amit\")',\n",
       "  'randomly_greet(\"amit\")',\n",
       "  'randomly_greet(\"amit\")',\n",
       "  'randomly_greet(\"amit\")',\n",
       "  'randomly_greet(\"amit\")',\n",
       "  'randomly_greet(\"amit\")',\n",
       "  'randomly_greet(\"amit\")',\n",
       "  'import random\\nPLUGINS = dict()\\n\\ndef register(func):\\n    \"\"\"Register a function as a plug-in\"\"\"\\n    PLUGINS[func.__name__] = func\\n    return func\\n\\n@register\\ndef say_hello(name):\\n    return f\"Hello {name}\"\\n\\n@register\\ndef be_aweseome(name):\\n    return f\"{name}, you are awesome!\"\\n\\n\\ndef randomly_greet(name):\\n    greeter, greeter_func = random.choice(list(PLUGINS.items()))\\n    print(f\"Using {greeter!r}\")\\n    return greeter_func(name)',\n",
       "  'randomly_greet(\"amit\")',\n",
       "  'randomly_greet(\"amit\")',\n",
       "  'randomly_greet(\"amit\")',\n",
       "  'randomly_greet(\"amit\")',\n",
       "  'randomly_greet(\"amit\")',\n",
       "  'randomly_greet(\"amit\")',\n",
       "  'randomly_greet(\"amit\")',\n",
       "  'randomly_greet(\"amit\")',\n",
       "  'randomly_greet(\"amit\")',\n",
       "  'import random\\nPLUGINS = dict()\\n\\ndef register(func):\\n    \"\"\"Register a function as a plug-in\"\"\"\\n    PLUGINS[func.__name__] = func\\n    return func\\n\\n@register\\ndef say_hello(name):\\n    return f\"Hello {name}\"\\n\\n@register\\ndef be_aweseome(name):\\n    return f\"{name}, you are awesome!\"\\n\\n\\ndef randomly_greet(name):\\n    greeter, greeter_func = random.choice(list(PLUGINS.items()))\\n    print(f\"Using {greeter!r}\")\\n    return greeter_func(name)\\n\\n\\nPLUGINS',\n",
       "  'randomly_greet(\"amit\")',\n",
       "  '# Global variables can also be accessed by calling globals()\\nglobals()'],\n",
       " '_oh': {3: 'Hello amit',\n",
       "  4: 'Hello amit',\n",
       "  5: 'Hello amit',\n",
       "  6: 'Hello amit',\n",
       "  7: 'Hello amit',\n",
       "  8: 'Hello amit',\n",
       "  9: 'Hello amit',\n",
       "  10: 'Hello amit',\n",
       "  11: 'Hello amit',\n",
       "  12: 'Hello amit',\n",
       "  13: 'Hello amit',\n",
       "  14: 'Hello amit',\n",
       "  15: 'Hello amit',\n",
       "  16: 'Hello amit',\n",
       "  17: 'Hello amit',\n",
       "  18: 'Hello amit',\n",
       "  19: 'Hello amit',\n",
       "  20: 'Hello amit',\n",
       "  21: 'Hello amit',\n",
       "  22: 'Hello amit',\n",
       "  23: 'Hello amit',\n",
       "  24: 'Hello amit',\n",
       "  25: 'Hello amit',\n",
       "  26: 'Hello amit',\n",
       "  27: 'Hello amit',\n",
       "  28: 'Hello amit',\n",
       "  29: 'Hello amit',\n",
       "  30: 'Hello amit',\n",
       "  31: 'Hello amit',\n",
       "  32: 'Hello amit',\n",
       "  33: 'Hello amit',\n",
       "  34: 'Hello amit',\n",
       "  35: 'Hello amit',\n",
       "  36: 'Hello amit',\n",
       "  38: 'amit, you are awesome!',\n",
       "  39: 'Hello amit',\n",
       "  40: 'Hello amit',\n",
       "  41: 'Hello amit',\n",
       "  42: 'Hello amit',\n",
       "  43: 'Hello amit',\n",
       "  44: 'amit, you are awesome!',\n",
       "  45: 'amit, you are awesome!',\n",
       "  46: 'amit, you are awesome!',\n",
       "  47: {'say_hello': <function __main__.say_hello(name)>,\n",
       "   'be_aweseome': <function __main__.be_aweseome(name)>},\n",
       "  48: 'amit, you are awesome!'},\n",
       " '_dh': [PosixPath('/home/amit/Drive-D/Code/Python/DSA/Intermediate'),\n",
       "  PosixPath('/home/amit/Drive-D/Code/Python/DSA/Intermediate')],\n",
       " 'In': ['',\n",
       "  'import random\\nPLUGINS = dict()\\n\\ndef register(func):\\n    \"\"\"Register a function as a plug-in\"\"\"\\n    PLUGINS[func.__name__] = func',\n",
       "  'import random\\nPLUGINS = dict()\\n\\ndef register(func):\\n    \"\"\"Register a function as a plug-in\"\"\"\\n    PLUGINS[func.__name__] = func\\n    return func\\n\\n@register\\ndef say_hello(name):\\n    return f\"Hello {name}\"\\n\\ndef be_aweseome(name):\\n    return f\"{name}, you are awesome!\"\\n\\n\\ndef randomly_greet(name):\\n    greeter, greeter_func = random.choice(list(PLUGINS.items()))\\n    print(f\"Using {greeter!r}\")\\n    return greeter_func(name)',\n",
       "  'randomly_greet(\"amit\")',\n",
       "  'randomly_greet(\"amit\")',\n",
       "  'randomly_greet(\"amit\")',\n",
       "  'randomly_greet(\"amit\")',\n",
       "  'randomly_greet(\"amit\")',\n",
       "  'randomly_greet(\"amit\")',\n",
       "  'randomly_greet(\"amit\")',\n",
       "  'randomly_greet(\"amit\")',\n",
       "  'randomly_greet(\"amit\")',\n",
       "  'randomly_greet(\"amit\")',\n",
       "  'randomly_greet(\"amit\")',\n",
       "  'randomly_greet(\"amit\")',\n",
       "  'randomly_greet(\"amit\")',\n",
       "  'randomly_greet(\"amit\")',\n",
       "  'randomly_greet(\"amit\")',\n",
       "  'randomly_greet(\"amit\")',\n",
       "  'randomly_greet(\"amit\")',\n",
       "  'randomly_greet(\"amit\")',\n",
       "  'randomly_greet(\"amit\")',\n",
       "  'randomly_greet(\"amit\")',\n",
       "  'randomly_greet(\"amit\")',\n",
       "  'randomly_greet(\"amit\")',\n",
       "  'randomly_greet(\"amit\")',\n",
       "  'randomly_greet(\"amit\")',\n",
       "  'randomly_greet(\"amit\")',\n",
       "  'randomly_greet(\"amit\")',\n",
       "  'randomly_greet(\"amit\")',\n",
       "  'randomly_greet(\"amit\")',\n",
       "  'randomly_greet(\"amit\")',\n",
       "  'randomly_greet(\"amit\")',\n",
       "  'randomly_greet(\"amit\")',\n",
       "  'randomly_greet(\"amit\")',\n",
       "  'randomly_greet(\"amit\")',\n",
       "  'randomly_greet(\"amit\")',\n",
       "  'import random\\nPLUGINS = dict()\\n\\ndef register(func):\\n    \"\"\"Register a function as a plug-in\"\"\"\\n    PLUGINS[func.__name__] = func\\n    return func\\n\\n@register\\ndef say_hello(name):\\n    return f\"Hello {name}\"\\n\\n@register\\ndef be_aweseome(name):\\n    return f\"{name}, you are awesome!\"\\n\\n\\ndef randomly_greet(name):\\n    greeter, greeter_func = random.choice(list(PLUGINS.items()))\\n    print(f\"Using {greeter!r}\")\\n    return greeter_func(name)',\n",
       "  'randomly_greet(\"amit\")',\n",
       "  'randomly_greet(\"amit\")',\n",
       "  'randomly_greet(\"amit\")',\n",
       "  'randomly_greet(\"amit\")',\n",
       "  'randomly_greet(\"amit\")',\n",
       "  'randomly_greet(\"amit\")',\n",
       "  'randomly_greet(\"amit\")',\n",
       "  'randomly_greet(\"amit\")',\n",
       "  'randomly_greet(\"amit\")',\n",
       "  'import random\\nPLUGINS = dict()\\n\\ndef register(func):\\n    \"\"\"Register a function as a plug-in\"\"\"\\n    PLUGINS[func.__name__] = func\\n    return func\\n\\n@register\\ndef say_hello(name):\\n    return f\"Hello {name}\"\\n\\n@register\\ndef be_aweseome(name):\\n    return f\"{name}, you are awesome!\"\\n\\n\\ndef randomly_greet(name):\\n    greeter, greeter_func = random.choice(list(PLUGINS.items()))\\n    print(f\"Using {greeter!r}\")\\n    return greeter_func(name)\\n\\n\\nPLUGINS',\n",
       "  'randomly_greet(\"amit\")',\n",
       "  '# Global variables can also be accessed by calling globals()\\nglobals()'],\n",
       " 'Out': {3: 'Hello amit',\n",
       "  4: 'Hello amit',\n",
       "  5: 'Hello amit',\n",
       "  6: 'Hello amit',\n",
       "  7: 'Hello amit',\n",
       "  8: 'Hello amit',\n",
       "  9: 'Hello amit',\n",
       "  10: 'Hello amit',\n",
       "  11: 'Hello amit',\n",
       "  12: 'Hello amit',\n",
       "  13: 'Hello amit',\n",
       "  14: 'Hello amit',\n",
       "  15: 'Hello amit',\n",
       "  16: 'Hello amit',\n",
       "  17: 'Hello amit',\n",
       "  18: 'Hello amit',\n",
       "  19: 'Hello amit',\n",
       "  20: 'Hello amit',\n",
       "  21: 'Hello amit',\n",
       "  22: 'Hello amit',\n",
       "  23: 'Hello amit',\n",
       "  24: 'Hello amit',\n",
       "  25: 'Hello amit',\n",
       "  26: 'Hello amit',\n",
       "  27: 'Hello amit',\n",
       "  28: 'Hello amit',\n",
       "  29: 'Hello amit',\n",
       "  30: 'Hello amit',\n",
       "  31: 'Hello amit',\n",
       "  32: 'Hello amit',\n",
       "  33: 'Hello amit',\n",
       "  34: 'Hello amit',\n",
       "  35: 'Hello amit',\n",
       "  36: 'Hello amit',\n",
       "  38: 'amit, you are awesome!',\n",
       "  39: 'Hello amit',\n",
       "  40: 'Hello amit',\n",
       "  41: 'Hello amit',\n",
       "  42: 'Hello amit',\n",
       "  43: 'Hello amit',\n",
       "  44: 'amit, you are awesome!',\n",
       "  45: 'amit, you are awesome!',\n",
       "  46: 'amit, you are awesome!',\n",
       "  47: {'say_hello': <function __main__.say_hello(name)>,\n",
       "   'be_aweseome': <function __main__.be_aweseome(name)>},\n",
       "  48: 'amit, you are awesome!'},\n",
       " 'get_ipython': <bound method InteractiveShell.get_ipython of <ipykernel.zmqshell.ZMQInteractiveShell object at 0x7f0d613c9e10>>,\n",
       " 'exit': <IPython.core.autocall.ZMQExitAutocall at 0x7f0d613e9210>,\n",
       " 'quit': <IPython.core.autocall.ZMQExitAutocall at 0x7f0d613e9210>,\n",
       " 'open': <function io.open(file, mode='r', buffering=-1, encoding=None, errors=None, newline=None, closefd=True, opener=None)>,\n",
       " '_': 'amit, you are awesome!',\n",
       " '__': {'say_hello': <function __main__.say_hello(name)>,\n",
       "  'be_aweseome': <function __main__.be_aweseome(name)>},\n",
       " '___': 'amit, you are awesome!',\n",
       " 'mitosheet': <module 'mitosheet' from '/home/amit/python_env/jupyter/lib64/python3.11/site-packages/mitosheet/__init__.py'>,\n",
       " 'pd': <module 'pandas' from '/home/amit/python_env/jupyter/lib64/python3.11/site-packages/pandas/__init__.py'>,\n",
       " 'uuid': <module 'uuid' from '/usr/lib64/python3.11/uuid.py'>,\n",
       " 'add_mito_button_to_df_output': <function __main__.add_mito_button_to_df_output(obj)>,\n",
       " 'html_formatter': <IPython.core.formatters.HTMLFormatter at 0x7f0d5c203690>,\n",
       " '__vsc_ipynb_file__': '/home/amit/Drive-D/Code/Python/DSA/Intermediate/decorators.ipynb',\n",
       " '_i': 'randomly_greet(\"amit\")',\n",
       " '_ii': 'import random\\nPLUGINS = dict()\\n\\ndef register(func):\\n    \"\"\"Register a function as a plug-in\"\"\"\\n    PLUGINS[func.__name__] = func\\n    return func\\n\\n@register\\ndef say_hello(name):\\n    return f\"Hello {name}\"\\n\\n@register\\ndef be_aweseome(name):\\n    return f\"{name}, you are awesome!\"\\n\\n\\ndef randomly_greet(name):\\n    greeter, greeter_func = random.choice(list(PLUGINS.items()))\\n    print(f\"Using {greeter!r}\")\\n    return greeter_func(name)\\n\\n\\nPLUGINS',\n",
       " '_iii': 'randomly_greet(\"amit\")',\n",
       " '_i1': 'import random\\nPLUGINS = dict()\\n\\ndef register(func):\\n    \"\"\"Register a function as a plug-in\"\"\"\\n    PLUGINS[func.__name__] = func',\n",
       " 'random': <module 'random' from '/usr/lib64/python3.11/random.py'>,\n",
       " 'PLUGINS': {'say_hello': <function __main__.say_hello(name)>,\n",
       "  'be_aweseome': <function __main__.be_aweseome(name)>},\n",
       " 'register': <function __main__.register(func)>,\n",
       " '_i2': 'import random\\nPLUGINS = dict()\\n\\ndef register(func):\\n    \"\"\"Register a function as a plug-in\"\"\"\\n    PLUGINS[func.__name__] = func\\n    return func\\n\\n@register\\ndef say_hello(name):\\n    return f\"Hello {name}\"\\n\\ndef be_aweseome(name):\\n    return f\"{name}, you are awesome!\"\\n\\n\\ndef randomly_greet(name):\\n    greeter, greeter_func = random.choice(list(PLUGINS.items()))\\n    print(f\"Using {greeter!r}\")\\n    return greeter_func(name)',\n",
       " 'say_hello': <function __main__.say_hello(name)>,\n",
       " 'be_aweseome': <function __main__.be_aweseome(name)>,\n",
       " 'randomly_greet': <function __main__.randomly_greet(name)>,\n",
       " '_i3': 'randomly_greet(\"amit\")',\n",
       " '_3': 'Hello amit',\n",
       " '_i4': 'randomly_greet(\"amit\")',\n",
       " '_4': 'Hello amit',\n",
       " '_i5': 'randomly_greet(\"amit\")',\n",
       " '_5': 'Hello amit',\n",
       " '_i6': 'randomly_greet(\"amit\")',\n",
       " '_6': 'Hello amit',\n",
       " '_i7': 'randomly_greet(\"amit\")',\n",
       " '_7': 'Hello amit',\n",
       " '_i8': 'randomly_greet(\"amit\")',\n",
       " '_8': 'Hello amit',\n",
       " '_i9': 'randomly_greet(\"amit\")',\n",
       " '_9': 'Hello amit',\n",
       " '_i10': 'randomly_greet(\"amit\")',\n",
       " '_10': 'Hello amit',\n",
       " '_i11': 'randomly_greet(\"amit\")',\n",
       " '_11': 'Hello amit',\n",
       " '_i12': 'randomly_greet(\"amit\")',\n",
       " '_12': 'Hello amit',\n",
       " '_i13': 'randomly_greet(\"amit\")',\n",
       " '_13': 'Hello amit',\n",
       " '_i14': 'randomly_greet(\"amit\")',\n",
       " '_14': 'Hello amit',\n",
       " '_i15': 'randomly_greet(\"amit\")',\n",
       " '_15': 'Hello amit',\n",
       " '_i16': 'randomly_greet(\"amit\")',\n",
       " '_16': 'Hello amit',\n",
       " '_i17': 'randomly_greet(\"amit\")',\n",
       " '_17': 'Hello amit',\n",
       " '_i18': 'randomly_greet(\"amit\")',\n",
       " '_18': 'Hello amit',\n",
       " '_i19': 'randomly_greet(\"amit\")',\n",
       " '_19': 'Hello amit',\n",
       " '_i20': 'randomly_greet(\"amit\")',\n",
       " '_20': 'Hello amit',\n",
       " '_i21': 'randomly_greet(\"amit\")',\n",
       " '_21': 'Hello amit',\n",
       " '_i22': 'randomly_greet(\"amit\")',\n",
       " '_22': 'Hello amit',\n",
       " '_i23': 'randomly_greet(\"amit\")',\n",
       " '_23': 'Hello amit',\n",
       " '_i24': 'randomly_greet(\"amit\")',\n",
       " '_24': 'Hello amit',\n",
       " '_i25': 'randomly_greet(\"amit\")',\n",
       " '_25': 'Hello amit',\n",
       " '_i26': 'randomly_greet(\"amit\")',\n",
       " '_26': 'Hello amit',\n",
       " '_i27': 'randomly_greet(\"amit\")',\n",
       " '_27': 'Hello amit',\n",
       " '_i28': 'randomly_greet(\"amit\")',\n",
       " '_28': 'Hello amit',\n",
       " '_i29': 'randomly_greet(\"amit\")',\n",
       " '_29': 'Hello amit',\n",
       " '_i30': 'randomly_greet(\"amit\")',\n",
       " '_30': 'Hello amit',\n",
       " '_i31': 'randomly_greet(\"amit\")',\n",
       " '_31': 'Hello amit',\n",
       " '_i32': 'randomly_greet(\"amit\")',\n",
       " '_32': 'Hello amit',\n",
       " '_i33': 'randomly_greet(\"amit\")',\n",
       " '_33': 'Hello amit',\n",
       " '_i34': 'randomly_greet(\"amit\")',\n",
       " '_34': 'Hello amit',\n",
       " '_i35': 'randomly_greet(\"amit\")',\n",
       " '_35': 'Hello amit',\n",
       " '_i36': 'randomly_greet(\"amit\")',\n",
       " '_36': 'Hello amit',\n",
       " '_i37': 'import random\\nPLUGINS = dict()\\n\\ndef register(func):\\n    \"\"\"Register a function as a plug-in\"\"\"\\n    PLUGINS[func.__name__] = func\\n    return func\\n\\n@register\\ndef say_hello(name):\\n    return f\"Hello {name}\"\\n\\n@register\\ndef be_aweseome(name):\\n    return f\"{name}, you are awesome!\"\\n\\n\\ndef randomly_greet(name):\\n    greeter, greeter_func = random.choice(list(PLUGINS.items()))\\n    print(f\"Using {greeter!r}\")\\n    return greeter_func(name)',\n",
       " '_i38': 'randomly_greet(\"amit\")',\n",
       " '_38': 'amit, you are awesome!',\n",
       " '_i39': 'randomly_greet(\"amit\")',\n",
       " '_39': 'Hello amit',\n",
       " '_i40': 'randomly_greet(\"amit\")',\n",
       " '_40': 'Hello amit',\n",
       " '_i41': 'randomly_greet(\"amit\")',\n",
       " '_41': 'Hello amit',\n",
       " '_i42': 'randomly_greet(\"amit\")',\n",
       " '_42': 'Hello amit',\n",
       " '_i43': 'randomly_greet(\"amit\")',\n",
       " '_43': 'Hello amit',\n",
       " '_i44': 'randomly_greet(\"amit\")',\n",
       " '_44': 'amit, you are awesome!',\n",
       " '_i45': 'randomly_greet(\"amit\")',\n",
       " '_45': 'amit, you are awesome!',\n",
       " '_i46': 'randomly_greet(\"amit\")',\n",
       " '_46': 'amit, you are awesome!',\n",
       " '_i47': 'import random\\nPLUGINS = dict()\\n\\ndef register(func):\\n    \"\"\"Register a function as a plug-in\"\"\"\\n    PLUGINS[func.__name__] = func\\n    return func\\n\\n@register\\ndef say_hello(name):\\n    return f\"Hello {name}\"\\n\\n@register\\ndef be_aweseome(name):\\n    return f\"{name}, you are awesome!\"\\n\\n\\ndef randomly_greet(name):\\n    greeter, greeter_func = random.choice(list(PLUGINS.items()))\\n    print(f\"Using {greeter!r}\")\\n    return greeter_func(name)\\n\\n\\nPLUGINS',\n",
       " '_47': {'say_hello': <function __main__.say_hello(name)>,\n",
       "  'be_aweseome': <function __main__.be_aweseome(name)>},\n",
       " '_i48': 'randomly_greet(\"amit\")',\n",
       " '_48': 'amit, you are awesome!',\n",
       " '_i49': '# Global variables can also be accessed by calling globals()\\nglobals()'}"
      ]
     },
     "execution_count": 49,
     "metadata": {},
     "output_type": "execute_result"
    }
   ],
   "source": [
    "# Global variables can also be accessed by calling globals()\n",
    "globals()"
   ]
  },
  {
   "attachments": {},
   "cell_type": "markdown",
   "metadata": {},
   "source": [
    "### Fancy Decorators\n",
    "So far we saw, simple decorators, there are more ways to create decorators\n",
    "\n",
    "- Decorators on classes\n",
    "- Several decorators on one function\n",
    "- Decorators with arguments\n",
    "- Decorators that can optionally take arguments\n",
    "- Stateful decorators\n",
    "- Classes as decorators\n"
   ]
  },
  {
   "attachments": {},
   "cell_type": "markdown",
   "metadata": {},
   "source": [
    "### Decorating classes\n",
    "We can decorate the methods of a class\n",
    "\n",
    " Some commonly used decorators that are even built-ins in Python are @classmethod, @staticmethod, and @property. The @classmethod and @staticmethod decorators are used to define methods inside a class namespace that are not connected to a particular instance of that class. The @property decorator is used to customize getters and setters for class attributes. Expand the box below for an example using these decorators.\n",
    "\n",
    "#### Example of some build-in decorators"
   ]
  },
  {
   "cell_type": "code",
   "execution_count": null,
   "metadata": {},
   "outputs": [],
   "source": [
    "# The following definition of a Circle class uses the @classmethod, @staticmethod, and @property decorators:\n",
    "\n",
    "class Circle:\n",
    "    def __init__(self, radius):\n",
    "        self._radius = radius\n",
    "\n",
    "    @property\n",
    "    def radius(self):\n",
    "        \"\"\"Get value of radius\"\"\"\n",
    "        return self._radius\n",
    "\n",
    "    @radius.setter\n",
    "    def radius(self, value):\n",
    "        \"\"\"Set radius, raise error if negative\"\"\"\n",
    "        if value >= 0:\n",
    "            self._radius = value\n",
    "        else:\n",
    "            raise ValueError(\"Radius must be positive\")\n",
    "\n",
    "    @property\n",
    "    def area(self):\n",
    "        \"\"\"Calculate area inside circle\"\"\"\n",
    "        return self.pi() * self.radius**2\n",
    "\n",
    "    def cylinder_volume(self, height):\n",
    "        \"\"\"Calculate volume of cylinder with circle as base\"\"\"\n",
    "        return self.area * height\n",
    "\n",
    "    @classmethod\n",
    "    def unit_circle(cls):\n",
    "        \"\"\"Factory method creating a circle with radius 1\"\"\"\n",
    "        return cls(1)\n",
    "\n",
    "    @staticmethod\n",
    "    def pi():\n",
    "        \"\"\"Value of π, could use math.pi instead though\"\"\"\n",
    "        return 3.1415926535\n"
   ]
  },
  {
   "attachments": {},
   "cell_type": "markdown",
   "metadata": {},
   "source": [
    "In above class:\n",
    "\n",
    "- .cylinder_volume() is a regular method.\n",
    "- .radius is a mutable property: it can be set to a different value. However, by defining a setter method, we can do some error testing to make sure it’s not set to a nonsensical negative number. Properties are accessed as attributes without parentheses.\n",
    "- .area is an immutable property: properties without .setter() methods can’t be changed. Even though it is defined as a method, it can be retrieved as an attribute without parentheses.\n",
    "- .unit_circle() is a class method. It’s not bound to one particular instance of Circle. Class methods are often used as factory methods that can create specific instances of the class.\n",
    "- .pi() is a static method. It’s not really dependent on the Circle class, except that it is part of its namespace. Static methods can be called on either an instance or the class.\n",
    "\n",
    "The Circle class can for example be used as follows:"
   ]
  },
  {
   "cell_type": "code",
   "execution_count": null,
   "metadata": {},
   "outputs": [
    {
     "data": {
      "text/plain": [
       "5"
      ]
     },
     "execution_count": 60,
     "metadata": {},
     "output_type": "execute_result"
    }
   ],
   "source": [
    "c = Circle(5)\n",
    "c.radius"
   ]
  },
  {
   "cell_type": "code",
   "execution_count": null,
   "metadata": {},
   "outputs": [
    {
     "data": {
      "text/plain": [
       "78.5398163375"
      ]
     },
     "execution_count": 71,
     "metadata": {},
     "output_type": "execute_result"
    }
   ],
   "source": [
    "c.area # it is a property not a method, if it was a method then we had to use 'c.area()'"
   ]
  },
  {
   "cell_type": "code",
   "execution_count": null,
   "metadata": {},
   "outputs": [
    {
     "name": "stdout",
     "output_type": "stream",
     "text": [
      "<class 'float'>\n",
      "<class 'method'>\n"
     ]
    }
   ],
   "source": [
    "print(type(c.area)) # \n",
    "print(type(c.cylinder_volume)) # "
   ]
  },
  {
   "cell_type": "code",
   "execution_count": null,
   "metadata": {},
   "outputs": [
    {
     "data": {
      "text/plain": [
       "628.3185307"
      ]
     },
     "execution_count": 77,
     "metadata": {},
     "output_type": "execute_result"
    }
   ],
   "source": [
    "c.cylinder_volume(height=8)"
   ]
  },
  {
   "cell_type": "code",
   "execution_count": null,
   "metadata": {},
   "outputs": [
    {
     "ename": "ValueError",
     "evalue": "Radius must be positive",
     "output_type": "error",
     "traceback": [
      "\u001b[0;31m---------------------------------------------------------------------------\u001b[0m",
      "\u001b[0;31mValueError\u001b[0m                                Traceback (most recent call last)",
      "Cell \u001b[0;32mIn[80], line 2\u001b[0m\n\u001b[1;32m      1\u001b[0m c\u001b[39m.\u001b[39mradius \u001b[39m=\u001b[39m \u001b[39m5\u001b[39m\n\u001b[0;32m----> 2\u001b[0m c\u001b[39m.\u001b[39;49mradius \u001b[39m=\u001b[39m \u001b[39m-\u001b[39m\u001b[39m1\u001b[39m  \u001b[39m# raise rerror on setting negative values\u001b[39;00m\n",
      "Cell \u001b[0;32mIn[59], line 18\u001b[0m, in \u001b[0;36mCircle.radius\u001b[0;34m(self, value)\u001b[0m\n\u001b[1;32m     16\u001b[0m     \u001b[39mself\u001b[39m\u001b[39m.\u001b[39m_radius \u001b[39m=\u001b[39m value\n\u001b[1;32m     17\u001b[0m \u001b[39melse\u001b[39;00m:\n\u001b[0;32m---> 18\u001b[0m     \u001b[39mraise\u001b[39;00m \u001b[39mValueError\u001b[39;00m(\u001b[39m\"\u001b[39m\u001b[39mRadius must be positive\u001b[39m\u001b[39m\"\u001b[39m)\n",
      "\u001b[0;31mValueError\u001b[0m: Radius must be positive"
     ]
    }
   ],
   "source": [
    "c.radius = 5\n",
    "c.radius = -1  # raise rerror on setting negative values"
   ]
  },
  {
   "cell_type": "code",
   "execution_count": null,
   "metadata": {},
   "outputs": [
    {
     "data": {
      "text/plain": [
       "3.1415926535"
      ]
     },
     "execution_count": 83,
     "metadata": {},
     "output_type": "execute_result"
    }
   ],
   "source": [
    "c.pi()"
   ]
  },
  {
   "cell_type": "code",
   "execution_count": null,
   "metadata": {},
   "outputs": [
    {
     "data": {
      "text/plain": [
       "1"
      ]
     },
     "execution_count": 87,
     "metadata": {},
     "output_type": "execute_result"
    }
   ],
   "source": [
    "c2 = Circle.unit_circle()\n",
    "c2.radius"
   ]
  },
  {
   "cell_type": "code",
   "execution_count": null,
   "metadata": {},
   "outputs": [
    {
     "data": {
      "text/plain": [
       "3.1415926535"
      ]
     },
     "execution_count": 89,
     "metadata": {},
     "output_type": "execute_result"
    }
   ],
   "source": [
    "Circle.pi()"
   ]
  },
  {
   "attachments": {},
   "cell_type": "markdown",
   "metadata": {},
   "source": [
    "Let’s define a class where we decorate some of its methods using the @debug and @timer decorators from earlier:"
   ]
  },
  {
   "cell_type": "code",
   "execution_count": 98,
   "metadata": {},
   "outputs": [],
   "source": [
    "class TimeWaster:\n",
    "    @debug\n",
    "    def __init__(self, max_num):\n",
    "        self.max_num = max_num\n",
    "\n",
    "    @timer\n",
    "    def waste_time(self, num_times):\n",
    "        for _ in range(num_times):\n",
    "            sum([i**2 for i in range(self.max_num)])\n"
   ]
  },
  {
   "cell_type": "code",
   "execution_count": 99,
   "metadata": {},
   "outputs": [
    {
     "name": "stdout",
     "output_type": "stream",
     "text": [
      "calling __init__(<__main__.TimeWaster object at 0x7f0d2e0e85d0>, 100)\n",
      "'__init__' retuened None\n"
     ]
    }
   ],
   "source": [
    "tw = TimeWaster(100)"
   ]
  },
  {
   "cell_type": "code",
   "execution_count": 100,
   "metadata": {},
   "outputs": [
    {
     "name": "stdout",
     "output_type": "stream",
     "text": [
      "Finished 'waste_time' in 0.0184 secs\n"
     ]
    }
   ],
   "source": [
    "tw.waste_time(999)"
   ]
  },
  {
   "cell_type": "code",
   "execution_count": 103,
   "metadata": {},
   "outputs": [
    {
     "name": "stdout",
     "output_type": "stream",
     "text": [
      "<class '__main__.PlayingCard'>\n"
     ]
    }
   ],
   "source": [
    "# The other way to use decorators on classes is to decorate the whole class.\n",
    "from dataclasses import dataclass\n",
    "\n",
    "@dataclass\n",
    "class PlayingCard:\n",
    "    rank: str\n",
    "    suit: str\n",
    "\n",
    "#It could have done the decoration by writing PlayingCard = dataclass(PlayingCard)."
   ]
  },
  {
   "cell_type": "code",
   "execution_count": 104,
   "metadata": {},
   "outputs": [],
   "source": [
    "@timer\n",
    "class TimeWaster:\n",
    "    def __init__(self, max_num):\n",
    "        self.max_num = max_num\n",
    "\n",
    "    def waste_time(self, num_times):\n",
    "        for _ in range(num_times):\n",
    "            sum([i**2 for i in range(self.max_num)])"
   ]
  },
  {
   "attachments": {},
   "cell_type": "markdown",
   "metadata": {},
   "source": [
    "Decorating a class does not decorate its methods. Recall that `@timer` is just shorthand for `TimeWaster = timer(TimeWaster).`\n",
    "\n",
    "Here, `@timer` only measures the time it takes to instantiate the class:"
   ]
  },
  {
   "cell_type": "code",
   "execution_count": 105,
   "metadata": {},
   "outputs": [
    {
     "name": "stdout",
     "output_type": "stream",
     "text": [
      "Finished 'TimeWaster' in 0.0000 secs\n"
     ]
    }
   ],
   "source": [
    "tw = TimeWaster(1000)"
   ]
  },
  {
   "cell_type": "code",
   "execution_count": 107,
   "metadata": {},
   "outputs": [],
   "source": [
    "tw.waste_time(999)"
   ]
  },
  {
   "attachments": {},
   "cell_type": "markdown",
   "metadata": {},
   "source": [
    "### Nesting decorator"
   ]
  },
  {
   "cell_type": "code",
   "execution_count": 116,
   "metadata": {},
   "outputs": [
    {
     "name": "stdout",
     "output_type": "stream",
     "text": [
      "calling wrapper_do_thrice('Rohan')\n",
      "Hello Rohan\n",
      "Finished 'greet' in 0.0000 secs\n",
      "Hello Rohan\n",
      "Finished 'greet' in 0.0000 secs\n",
      "Hello Rohan\n",
      "Finished 'greet' in 0.0000 secs\n",
      "'wrapper_do_thrice' retuened None\n"
     ]
    }
   ],
   "source": [
    "from Decorators.decorators_new import do_thrice\n",
    "@debug\n",
    "@do_thrice\n",
    "@timer\n",
    "def greet(name):\n",
    "    print(f\"Hello {name}\")\n",
    "\n",
    "\n",
    "greet(\"Rohan\")"
   ]
  },
  {
   "attachments": {},
   "cell_type": "markdown",
   "metadata": {},
   "source": [
    "### Decorators With Arguments"
   ]
  },
  {
   "cell_type": "code",
   "execution_count": 122,
   "metadata": {},
   "outputs": [
    {
     "name": "stdout",
     "output_type": "stream",
     "text": [
      "Hello there\n",
      "Hello there\n",
      "Hello there\n",
      "Hello there\n"
     ]
    }
   ],
   "source": [
    "def repeat(num_times):\n",
    "    def decorator_repeat(func):\n",
    "        @functools.wraps(func)\n",
    "        def wrapper_repeat(*args,**kwargs):\n",
    "            for _ in range(num_times):\n",
    "                value = func(*args,**kwargs)\n",
    "            return value\n",
    "        return wrapper_repeat\n",
    "    return decorator_repeat\n",
    "\n",
    "\n",
    "\n",
    "@repeat(num_times=4)\n",
    "def greet(name):\n",
    "    print(f\"Hello {name}\")\n",
    "\n",
    "\n",
    "greet(\"there\")"
   ]
  }
 ],
 "metadata": {
  "kernelspec": {
   "display_name": "jupyter",
   "language": "python",
   "name": "python3"
  },
  "language_info": {
   "codemirror_mode": {
    "name": "ipython",
    "version": 3
   },
   "file_extension": ".py",
   "mimetype": "text/x-python",
   "name": "python",
   "nbconvert_exporter": "python",
   "pygments_lexer": "ipython3",
   "version": "3.11.3"
  },
  "orig_nbformat": 4
 },
 "nbformat": 4,
 "nbformat_minor": 2
}
