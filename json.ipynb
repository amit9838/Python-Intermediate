{
 "cells": [
  {
   "attachments": {},
   "cell_type": "markdown",
   "metadata": {},
   "source": [
    "# JSON in python"
   ]
  },
  {
   "cell_type": "code",
   "execution_count": 23,
   "metadata": {},
   "outputs": [
    {
     "name": "stdout",
     "output_type": "stream",
     "text": [
      "<class 'str'>\n",
      "{\n",
      "    \"name\": \"John\",\n",
      "    \"age\": 30,\n",
      "    \"city\": \"Del\",\n",
      "    \"hasChildren\": true,\n",
      "    \"titles\": [\n",
      "        \"engineer\",\n",
      "        \"programmer\",\n",
      "        \"coder\"\n",
      "    ]\n",
      "}\n",
      "{\n",
      "    \"age\": 30,\n",
      "    \"city\": \"Del\",\n",
      "    \"hasChildren\": true,\n",
      "    \"name\": \"John\",\n",
      "    \"titles\": [\n",
      "        \"engineer\",\n",
      "        \"programmer\",\n",
      "        \"coder\"\n",
      "    ]\n",
      "}\n"
     ]
    }
   ],
   "source": [
    "# Creating a json object\n",
    "\n",
    "import json\n",
    "\n",
    "# Create a dictonary\n",
    "person = {\n",
    "    \"name\":\"John\",\n",
    "    \"age\":30,\n",
    "    \"city\":\"Delhi\",\n",
    "    \"hasChildren\":True,\n",
    "    \"titles\":[\n",
    "        \"engineer\",\n",
    "        \"programmer\",\n",
    "        \"coder\"\n",
    "    ]\n",
    "}\n",
    "\n",
    "# convert the dicronary in to json formatted string\n",
    "personJSON = json.dumps(person, indent=4)  # s in 'dumps' means string (convert into json and applies string)\n",
    "print(type(personJSON))\n",
    "print(personJSON)\n",
    "\n",
    "# Sort by keys\n",
    "personJSON2 = json.dumps(person, indent=4,sort_keys=True)\n",
    "print(personJSON2)\n"
   ]
  },
  {
   "cell_type": "code",
   "execution_count": 24,
   "metadata": {},
   "outputs": [],
   "source": [
    "# Write this json into a file\n",
    "with open('person.json','w') as file:\n",
    "    json.dump(person,file,indent=4)"
   ]
  },
  {
   "cell_type": "code",
   "execution_count": 25,
   "metadata": {},
   "outputs": [
    {
     "name": "stdout",
     "output_type": "stream",
     "text": [
      "<class 'dict'>\n",
      "{'name': 'John', 'age': 30, 'city': 'Del', 'hasChildren': True, 'titles': ['engineer', 'programmer', 'coder']}\n"
     ]
    }
   ],
   "source": [
    "# load json data from a file\n",
    "with open('person.json','r') as myfile:\n",
    "    this_person = json.load(myfile)\n",
    "    print(type(this_person))\n",
    "    print(this_person)\n"
   ]
  },
  {
   "attachments": {},
   "cell_type": "markdown",
   "metadata": {},
   "source": [
    "### Convert class object to JSON"
   ]
  },
  {
   "cell_type": "code",
   "execution_count": 26,
   "metadata": {},
   "outputs": [
    {
     "data": {
      "text/plain": [
       "'{\"name\": \"John\", \"age\": 26, \"User\": true}'"
      ]
     },
     "execution_count": 26,
     "metadata": {},
     "output_type": "execute_result"
    }
   ],
   "source": [
    "import json\n",
    "\n",
    "class User:\n",
    "    def __init__(self,name,age):\n",
    "        self.name = name\n",
    "        self.age = age\n",
    "\n",
    "\n",
    "user = User(\"John\",26)\n",
    "\n",
    "# userJSON = json.dumps(user)  # This can't be done using default encoder, it needs a a custom encoder encoder\n",
    "\n",
    "def encode_user(obj):\n",
    "    if isinstance(obj,User):\n",
    "        return {\"name\":obj.name, \"age\":obj.age,obj.__class__.__name__:True}\n",
    "    else:\n",
    "        raise TypeError (\"Object of type User is not JSON serializable\")\n",
    "\n",
    "\n",
    "userJSON = json.dumps(user,default=encode_user)\n",
    "userJSON"
   ]
  },
  {
   "attachments": {},
   "cell_type": "markdown",
   "metadata": {},
   "source": [
    "### Convert JSON to object"
   ]
  },
  {
   "cell_type": "code",
   "execution_count": 27,
   "metadata": {},
   "outputs": [
    {
     "name": "stdout",
     "output_type": "stream",
     "text": [
      "-------JOSN Data-------\n",
      "<class 'str'>\n",
      "{\"name\": \"John\", \"age\": 26, \"User\": true}\n",
      "\n",
      "------- Dict -------\n",
      "<class 'dict'>\n",
      "{'name': 'John', 'age': 26, 'User': True}\n",
      "\n",
      "------- Object -------\n",
      "<class '__main__.User'>\n",
      "John\n",
      "26\n"
     ]
    }
   ],
   "source": [
    "# Method 2\n",
    "from json import JSONEncoder\n",
    "class UserEncoder(JSONEncoder):\n",
    "    def default(self,obj):\n",
    "        if isinstance(obj,User):\n",
    "            return {\"name\":obj.name, \"age\":obj.age,obj.__class__.__name__:True}\n",
    "        else:\n",
    "            raise TypeError (\"Object of type User is not JSON serializable\")\n",
    "\n",
    "userJSON2 = UserEncoder().encode(user)  \n",
    "\n",
    "print(\"-------JOSN Data-------\")\n",
    "print(type(userJSON2))\n",
    "print(userJSON2)\n",
    "print()\n",
    "\n",
    "\n",
    "print(\"------- Dict -------\")\n",
    "user = json.loads(userJSON2)   \n",
    "print(type(user))\n",
    "print(user)\n",
    "print()\n",
    "\n",
    "#  Decode json into object\n",
    "def decode_user(obj_dict):\n",
    "    if User.__name__ in obj_dict:\n",
    "        return User(name=obj_dict['name'], age = obj_dict['age'])\n",
    "    return obj_dict\n",
    "\n",
    "print(\"------- Object -------\")\n",
    "user1 = json.loads(userJSON2,object_hook=decode_user)\n",
    "print(type(user1))\n",
    "print(user1.name)\n",
    "print(user1.age)\n"
   ]
  }
 ],
 "metadata": {
  "kernelspec": {
   "display_name": "jupyter",
   "language": "python",
   "name": "python3"
  },
  "language_info": {
   "codemirror_mode": {
    "name": "ipython",
    "version": 3
   },
   "file_extension": ".py",
   "mimetype": "text/x-python",
   "name": "python",
   "nbconvert_exporter": "python",
   "pygments_lexer": "ipython3",
   "version": "3.11.3"
  },
  "orig_nbformat": 4
 },
 "nbformat": 4,
 "nbformat_minor": 2
}
