{
 "cells": [
  {
   "attachments": {},
   "cell_type": "markdown",
   "metadata": {},
   "source": [
    "# Itertools"
   ]
  },
  {
   "cell_type": "code",
   "execution_count": 5,
   "metadata": {},
   "outputs": [
    {
     "name": "stdout",
     "output_type": "stream",
     "text": [
      "[(1, 3), (1, 4), (2, 3), (2, 4)]\n",
      "[(1, 5, 1, 5), (1, 5, 2, 5), (2, 5, 1, 5), (2, 5, 2, 5)]\n"
     ]
    }
   ],
   "source": [
    "# Calculate cartesian product two list\n",
    "from itertools import product\n",
    "a = [1,2]\n",
    "b = [3,4]\n",
    "c = [5]\n",
    "prod = product(a,b)\n",
    "prod2 = product(a,c,repeat=2)\n",
    "print(list(prod))\n",
    "print(list(prod2))"
   ]
  },
  {
   "cell_type": "code",
   "execution_count": 10,
   "metadata": {},
   "outputs": [
    {
     "name": "stdout",
     "output_type": "stream",
     "text": [
      "[(1, 2, 3), (1, 3, 2), (2, 1, 3), (2, 3, 1), (3, 1, 2), (3, 2, 1)]\n",
      "[(1, 2), (1, 3), (2, 1), (2, 3), (3, 1), (3, 2)]\n"
     ]
    }
   ],
   "source": [
    "# Permutations\n",
    "from itertools import permutations\n",
    "a  = [1,2,3]\n",
    "perm = permutations(a)\n",
    "perm2 = permutations(a,2)  # 2-> length of permutations\n",
    "print(list(perm))\n",
    "print(list(perm2))"
   ]
  },
  {
   "cell_type": "code",
   "execution_count": 16,
   "metadata": {},
   "outputs": [
    {
     "name": "stdout",
     "output_type": "stream",
     "text": [
      "[(1, 2), (1, 3), (2, 3)]\n",
      "[(1, 1), (1, 2), (1, 3), (2, 2), (2, 3), (3, 3)]\n"
     ]
    }
   ],
   "source": [
    "# Combinations\n",
    "from itertools import combinations,combinations_with_replacement\n",
    "a  = [1,2,3]\n",
    "comb = combinations(a,2)  # 2-> length of combinations\n",
    "comb2 =   combinations_with_replacement(a,2) # 2-> length of combinations\n",
    "print(list(comb))\n",
    "print(list(comb2))"
   ]
  },
  {
   "cell_type": "code",
   "execution_count": 23,
   "metadata": {},
   "outputs": [
    {
     "name": "stdout",
     "output_type": "stream",
     "text": [
      "[1, 2, 4, 3, 5]\n",
      "[1, 3, 7, 10, 15]\n",
      "[1, 2, 8, 24, 120]\n",
      "[1, 2, 4, 4, 5]\n"
     ]
    }
   ],
   "source": [
    "# Accumulate\n",
    "from itertools import accumulate\n",
    "import operator\n",
    "a = [1,2,4,3,5]\n",
    "acc = accumulate(a)\n",
    "acc2 = accumulate(a,func=operator.mul)\n",
    "acc3 = accumulate(a,func=max)\n",
    "print(a)\n",
    "print(list(acc))\n",
    "print(list(acc2))\n",
    "print(list(acc3))"
   ]
  },
  {
   "cell_type": "code",
   "execution_count": 31,
   "metadata": {},
   "outputs": [
    {
     "name": "stdout",
     "output_type": "stream",
     "text": [
      "True [1, 3, 2]\n",
      "False [5, 7, 4, 9]\n",
      "True [1]\n"
     ]
    }
   ],
   "source": [
    "# Groupby \n",
    "# Groups the elements based on some condition\n",
    "from itertools import groupby\n",
    "\n",
    "def smaller_than(x):\n",
    "    return x<4\n",
    "\n",
    "a  = [1,3,2,5,7,4,9,1]\n",
    "\n",
    "group_obj = groupby(a,key=smaller_than)\n",
    "# print(group_obj)\n",
    "for key,val in group_obj:\n",
    "    print(key,list(val))\n"
   ]
  },
  {
   "cell_type": "code",
   "execution_count": 37,
   "metadata": {},
   "outputs": [
    {
     "name": "stdout",
     "output_type": "stream",
     "text": [
      "10\n",
      "11\n",
      "12\n",
      "13\n",
      "14\n",
      "15\n",
      "[1, 2, 3]\n",
      "[1, 2, 3]\n",
      "[1, 2, 3]\n"
     ]
    }
   ],
   "source": [
    "# Infinite iterators\n",
    "from itertools import count, cycle, repeat\n",
    "\n",
    "for i in count(10):\n",
    "    print(i)\n",
    "    if i == 15:\n",
    "        break\n",
    "\n",
    "a = [1,2,3]\n",
    "for i in repeat(a,3):\n",
    "    print(i)\n",
    "\n"
   ]
  }
 ],
 "metadata": {
  "kernelspec": {
   "display_name": "jupyter",
   "language": "python",
   "name": "python3"
  },
  "language_info": {
   "codemirror_mode": {
    "name": "ipython",
    "version": 3
   },
   "file_extension": ".py",
   "mimetype": "text/x-python",
   "name": "python",
   "nbconvert_exporter": "python",
   "pygments_lexer": "ipython3",
   "version": "3.11.3"
  },
  "orig_nbformat": 4
 },
 "nbformat": 4,
 "nbformat_minor": 2
}
