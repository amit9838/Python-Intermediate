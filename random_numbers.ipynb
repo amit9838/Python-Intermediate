{
 "cells": [
  {
   "attachments": {},
   "cell_type": "markdown",
   "metadata": {},
   "source": [
    "# Random Numbers"
   ]
  },
  {
   "cell_type": "code",
   "execution_count": 13,
   "metadata": {},
   "outputs": [
    {
     "name": "stdout",
     "output_type": "stream",
     "text": [
      "0.9117614460253205\n",
      "2.317473215362873\n",
      "3\n",
      "7\n",
      "2.6730202961743386\n"
     ]
    }
   ],
   "source": [
    "import random \n",
    "\n",
    "# Random float from 0 to 1\n",
    "a = random.random()\n",
    "print(a)\n",
    "\n",
    "\n",
    "# Random float from 0 to n\n",
    "b = random.uniform(1,10)\n",
    "print(b)\n",
    "\n",
    "\n",
    "# Random integer from 0 to n(included)\n",
    "c = random.randint(1,10)\n",
    "print(c)\n",
    "\n",
    "# Random integer from 0 to n(excluded)\n",
    "d = random.randrange(1,10)\n",
    "print(d)\n",
    "\n",
    "# Random integer from 0 to n(excluded)\n",
    "e = random.normalvariate(0,1)\n",
    "print(e)"
   ]
  },
  {
   "cell_type": "code",
   "execution_count": 27,
   "metadata": {},
   "outputs": [
    {
     "name": "stdout",
     "output_type": "stream",
     "text": [
      "['A', 'B', 'C', 'D', 'E', 'F', 'G', 'H']\n",
      "['A', 'F', 'C']\n",
      "['D', 'B', 'F']\n",
      "['D', 'A', 'B', 'G', 'E', 'F', 'H', 'C']\n"
     ]
    }
   ],
   "source": [
    "# Working with sequences\n",
    "\n",
    "mylist = list(\"ABCDEFGH\")\n",
    "print(mylist)\n",
    "\n",
    "a = random.sample(mylist,3)  # Picks unique choices\n",
    "print(a)\n",
    "\n",
    "b = random.choices(mylist,k=3)  # can pick same item twice\n",
    "print(b)\n",
    "\n",
    "random.shuffle(mylist)\n",
    "print(mylist)"
   ]
  },
  {
   "cell_type": "code",
   "execution_count": 33,
   "metadata": {},
   "outputs": [
    {
     "name": "stdout",
     "output_type": "stream",
     "text": [
      "0.13436424411240122\n",
      "2\n",
      "\n",
      "0.9560342718892494\n",
      "1\n",
      "\n",
      "0.13436424411240122\n",
      "2\n",
      "\n",
      "0.9560342718892494\n",
      "1\n"
     ]
    }
   ],
   "source": [
    "random.seed(1)\n",
    "print(random.random())\n",
    "print(random.randint(1,10))\n",
    "\n",
    "print()\n",
    "random.seed(2)\n",
    "print(random.random())\n",
    "print(random.randint(1,10))\n",
    "\n",
    "print()\n",
    "random.seed(1)\n",
    "print(random.random())\n",
    "print(random.randint(1,10))\n",
    "\n",
    "print()\n",
    "random.seed(2)\n",
    "print(random.random())\n",
    "print(random.randint(1,10))\n",
    "\n",
    "# Number with same seed are same\n",
    "# These numbers are reproducible so, it should not be used for security purposes"
   ]
  },
  {
   "cell_type": "code",
   "execution_count": 50,
   "metadata": {},
   "outputs": [
    {
     "name": "stdout",
     "output_type": "stream",
     "text": [
      "E\n"
     ]
    }
   ],
   "source": [
    "# Secrets module (can be used for security purposes)\n",
    "import secrets\n",
    "\n",
    "mylist2 = list(\"ABCDEFG\")\n",
    "\n",
    "a = secrets.choice(mylist2)  # It dosent't use seed therefore it is not reproducible\n",
    "print(a)"
   ]
  },
  {
   "cell_type": "code",
   "execution_count": 93,
   "metadata": {},
   "outputs": [
    {
     "name": "stdout",
     "output_type": "stream",
     "text": [
      "0\n",
      "2\n",
      "[[1 0 4 2]\n",
      " [3 3 0 3]\n",
      " [2 4 3 2]]\n",
      "\n",
      "[[2 4 3 2]\n",
      " [1 0 4 2]\n",
      " [3 3 0 3]]\n"
     ]
    }
   ],
   "source": [
    "import numpy as np\n",
    "\n",
    "a = np.random.randint(5)\n",
    "print(a)\n",
    "\n",
    "b = np.random.randint(0,5)\n",
    "print(b)\n",
    "\n",
    "c = np.random.randint(0,5,(3,4))\n",
    "print(c)\n",
    "\n"
   ]
  },
  {
   "cell_type": "code",
   "execution_count": 117,
   "metadata": {},
   "outputs": [
    {
     "name": "stdout",
     "output_type": "stream",
     "text": [
      "[[3 3 0 3]\n",
      " [1 0 4 2]\n",
      " [2 4 3 2]]\n"
     ]
    }
   ],
   "source": [
    "np.random.shuffle(c)  # shuffles on single axis\n",
    "print(c)"
   ]
  }
 ],
 "metadata": {
  "kernelspec": {
   "display_name": "jupyter",
   "language": "python",
   "name": "python3"
  },
  "language_info": {
   "codemirror_mode": {
    "name": "ipython",
    "version": 3
   },
   "file_extension": ".py",
   "mimetype": "text/x-python",
   "name": "python",
   "nbconvert_exporter": "python",
   "pygments_lexer": "ipython3",
   "version": "3.11.3"
  },
  "orig_nbformat": 4
 },
 "nbformat": 4,
 "nbformat_minor": 2
}
