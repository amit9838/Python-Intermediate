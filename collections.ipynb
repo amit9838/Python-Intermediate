{
 "cells": [
  {
   "attachments": {},
   "cell_type": "markdown",
   "metadata": {},
   "source": [
    "# Collections\n",
    "Counter, namedtuple, OrderedDict, defaultdict, dequeue"
   ]
  },
  {
   "attachments": {},
   "cell_type": "markdown",
   "metadata": {},
   "source": [
    "### Counters"
   ]
  },
  {
   "cell_type": "code",
   "execution_count": 14,
   "metadata": {},
   "outputs": [
    {
     "name": "stdout",
     "output_type": "stream",
     "text": [
      "Counter({'a': 7, 'b': 2, 'c': 2})\n",
      "dict_items([('a', 7), ('b', 2), ('c', 2)])\n",
      "dict_keys(['a', 'b', 'c'])\n",
      "[('a', 7)]\n",
      "['a', 'a', 'a', 'a', 'a', 'a', 'a', 'b', 'b', 'c', 'c']\n",
      "Counter({'hi': 2, 'hello': 1})\n"
     ]
    }
   ],
   "source": [
    "# Counters - Retures the count of items in an iterable(string,list,...) in the form of key value pair like - {'a':2,'b':3} means (aabbb|ababb ...)\n",
    "from collections import Counter\n",
    "s = \"aaaabbaaacc\"\n",
    "my_counter = Counter(s)\n",
    "print(my_counter)\n",
    "print(my_counter.items())\n",
    "print(my_counter.keys())\n",
    "print(my_counter.most_common(1)) # How many most common elements\n",
    "print(list(my_counter.elements())) # How many most common elements\n",
    "\n",
    "\n",
    "# Applying on list\n",
    "ll = ['hi','hi','hello']\n",
    "cnt = Counter(ll)\n",
    "print(cnt)\n"
   ]
  },
  {
   "attachments": {},
   "cell_type": "markdown",
   "metadata": {},
   "source": [
    "### Named Tuples"
   ]
  },
  {
   "cell_type": "code",
   "execution_count": 17,
   "metadata": {},
   "outputs": [
    {
     "name": "stdout",
     "output_type": "stream",
     "text": [
      "-1 5\n"
     ]
    }
   ],
   "source": [
    "from collections import  namedtuple\n",
    "Point = namedtuple('Point','p,q')\n",
    "pt = Point(-1,5)\n",
    "print(pt.p,pt.q)"
   ]
  },
  {
   "attachments": {},
   "cell_type": "markdown",
   "metadata": {},
   "source": [
    "### Ordered Dict\n",
    "Remembers the order in which elements were inserted"
   ]
  },
  {
   "cell_type": "code",
   "execution_count": 1,
   "metadata": {},
   "outputs": [
    {
     "data": {
      "text/plain": [
       "OrderedDict([('c', 2), ('a', 1), ('b', 8)])"
      ]
     },
     "execution_count": 1,
     "metadata": {},
     "output_type": "execute_result"
    }
   ],
   "source": [
    "from collections import OrderedDict\n",
    "\n",
    "ordered_dict = OrderedDict()\n",
    "ordered_dict['c'] = 2\n",
    "ordered_dict['a'] = 1\n",
    "ordered_dict['b'] = 8\n",
    "\n",
    "ordered_dict\n"
   ]
  },
  {
   "attachments": {},
   "cell_type": "markdown",
   "metadata": {},
   "source": [
    "### Default Dict\n",
    "If an element is not present corresponding to a key, it returns default vaule of the datatype"
   ]
  },
  {
   "cell_type": "code",
   "execution_count": 4,
   "metadata": {},
   "outputs": [
    {
     "name": "stdout",
     "output_type": "stream",
     "text": [
      "defaultdict(<class 'float'>, {'a': 1, 'g': 3, 'u': 8})\n",
      "0.0\n"
     ]
    }
   ],
   "source": [
    "from collections import defaultdict\n",
    "d = defaultdict(float) # list,int, obj ...\n",
    "\n",
    "d['a'] = 1\n",
    "d['g'] = 3\n",
    "d['u'] = 8\n",
    "print(d)\n",
    "\n",
    "print(d['b'])"
   ]
  },
  {
   "attachments": {},
   "cell_type": "markdown",
   "metadata": {},
   "source": [
    "### Deque\n",
    "Doubly ended queue"
   ]
  },
  {
   "cell_type": "code",
   "execution_count": 9,
   "metadata": {},
   "outputs": [
    {
     "name": "stdout",
     "output_type": "stream",
     "text": [
      "deque([3, 'Hello'])\n",
      "deque(['hi', 3, 'Hello'])\n",
      "deque([9, 6, 2, 'hi', 3, 'Hello'])\n",
      "deque([3, 'Hello', 9, 6, 2, 'hi'])\n"
     ]
    }
   ],
   "source": [
    "from collections import deque\n",
    "\n",
    "d = deque()\n",
    "\n",
    "d.append(3)\n",
    "d.append('Hello')\n",
    "print(d)\n",
    "d.appendleft(\"hi\")\n",
    "print(d)\n",
    "\n",
    "d.extendleft([2,6,9])\n",
    "print(d)\n",
    "d.rotate(2)\n",
    "print(d)"
   ]
  }
 ],
 "metadata": {
  "kernelspec": {
   "display_name": "jupyter",
   "language": "python",
   "name": "python3"
  },
  "language_info": {
   "codemirror_mode": {
    "name": "ipython",
    "version": 3
   },
   "file_extension": ".py",
   "mimetype": "text/x-python",
   "name": "python",
   "nbconvert_exporter": "python",
   "pygments_lexer": "ipython3",
   "version": "3.11.3"
  },
  "orig_nbformat": 4
 },
 "nbformat": 4,
 "nbformat_minor": 2
}
