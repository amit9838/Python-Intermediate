{
 "cells": [
  {
   "attachments": {},
   "cell_type": "markdown",
   "metadata": {},
   "source": [
    "# Exception and Errors"
   ]
  },
  {
   "attachments": {},
   "cell_type": "markdown",
   "metadata": {},
   "source": [
    "### Common of errors "
   ]
  },
  {
   "cell_type": "code",
   "execution_count": null,
   "metadata": {},
   "outputs": [],
   "source": []
  },
  {
   "attachments": {},
   "cell_type": "markdown",
   "metadata": {},
   "source": [
    "### Exceptions"
   ]
  },
  {
   "cell_type": "code",
   "execution_count": 1,
   "metadata": {},
   "outputs": [
    {
     "ename": "Exception",
     "evalue": "Number should be positive",
     "output_type": "error",
     "traceback": [
      "\u001b[0;31m---------------------------------------------------------------------------\u001b[0m",
      "\u001b[0;31mException\u001b[0m                                 Traceback (most recent call last)",
      "Cell \u001b[0;32mIn[1], line 4\u001b[0m\n\u001b[1;32m      2\u001b[0m x \u001b[39m=\u001b[39m \u001b[39m-\u001b[39m\u001b[39m3\u001b[39m\n\u001b[1;32m      3\u001b[0m \u001b[39mif\u001b[39;00m x\u001b[39m<\u001b[39m\u001b[39m0\u001b[39m:\n\u001b[0;32m----> 4\u001b[0m     \u001b[39mraise\u001b[39;00m \u001b[39mException\u001b[39;00m(\u001b[39m\"\u001b[39m\u001b[39mNumber should be positive\u001b[39m\u001b[39m\"\u001b[39m)\n",
      "\u001b[0;31mException\u001b[0m: Number should be positive"
     ]
    }
   ],
   "source": [
    "# Manually raise an exceptoin\n",
    "x = -3\n",
    "if x<0:\n",
    "    raise Exception(\"Number should be positive\")"
   ]
  },
  {
   "cell_type": "code",
   "execution_count": 8,
   "metadata": {},
   "outputs": [
    {
     "ename": "AssertionError",
     "evalue": "X should be posive",
     "output_type": "error",
     "traceback": [
      "\u001b[0;31m---------------------------------------------------------------------------\u001b[0m",
      "\u001b[0;31mAssertionError\u001b[0m                            Traceback (most recent call last)",
      "Cell \u001b[0;32mIn[8], line 4\u001b[0m\n\u001b[1;32m      1\u001b[0m \u001b[39m# Raise error using assertion\u001b[39;00m\n\u001b[1;32m      3\u001b[0m x \u001b[39m=\u001b[39m \u001b[39m-\u001b[39m\u001b[39m1\u001b[39m\n\u001b[0;32m----> 4\u001b[0m \u001b[39massert\u001b[39;00m (x\u001b[39m>\u001b[39m\u001b[39m=\u001b[39m\u001b[39m0\u001b[39m), \u001b[39m\"\u001b[39m\u001b[39mX should be posive\u001b[39m\u001b[39m\"\u001b[39m\n",
      "\u001b[0;31mAssertionError\u001b[0m: X should be posive"
     ]
    }
   ],
   "source": [
    "# Raise error using assertion\n",
    "\n",
    "x = -1\n",
    "assert (x>=0), \"X should be posive\""
   ]
  },
  {
   "cell_type": "code",
   "execution_count": 2,
   "metadata": {},
   "outputs": [
    {
     "name": "stdout",
     "output_type": "stream",
     "text": [
      "unsupported operand type(s) for +: 'float' and 'str'\n"
     ]
    }
   ],
   "source": [
    "# Catching specific type of errors\n",
    "# Note : It's a good practice to know the specific exception like (Zero division) and handle those specificly\n",
    "\n",
    "try:\n",
    "    a = 5 / 1  # a = 5/0\n",
    "    b = a + \"c\"\n",
    "except ZeroDivisionError as e:\n",
    "    print(e)\n",
    "\n",
    "except TypeError as e:\n",
    "    print(e)"
   ]
  },
  {
   "cell_type": "code",
   "execution_count": 3,
   "metadata": {},
   "outputs": [
    {
     "name": "stdout",
     "output_type": "stream",
     "text": [
      "Every thing is fine\n"
     ]
    }
   ],
   "source": [
    "# If no exception has occured then moves to the next block, like else\n",
    "\n",
    "try:\n",
    "    a = 5 / 1  # a = 5/0\n",
    "    b = a + 6\n",
    "except ZeroDivisionError as e:\n",
    "    print(e)\n",
    "\n",
    "except TypeError as e:\n",
    "    print(e)\n",
    "\n",
    "else:\n",
    "    print(\"Every thing is fine\")"
   ]
  },
  {
   "cell_type": "code",
   "execution_count": 13,
   "metadata": {},
   "outputs": [
    {
     "name": "stdout",
     "output_type": "stream",
     "text": [
      "Every thing is fine\n",
      "Some Cleanup...\n"
     ]
    }
   ],
   "source": [
    "# Finaly block is always executed irrrespective of the error\n",
    "\n",
    "# When no exception\n",
    "try:\n",
    "    a = 5 / 1  # a = 5/0\n",
    "    b = a + 6\n",
    "except ZeroDivisionError as e:\n",
    "    print(e)\n",
    "\n",
    "except TypeError as e:\n",
    "    print(e)\n",
    "\n",
    "else:\n",
    "    print(\"Every thing is fine\")\n",
    "\n",
    "finally:\n",
    "    print(\"Some Cleanup...\")"
   ]
  },
  {
   "cell_type": "code",
   "execution_count": 14,
   "metadata": {},
   "outputs": [
    {
     "name": "stdout",
     "output_type": "stream",
     "text": [
      "unsupported operand type(s) for +: 'float' and 'str'\n",
      "Some Cleanup....\n"
     ]
    }
   ],
   "source": [
    "# When there is exception\n",
    "try:\n",
    "    a = 5 / 1  # a = 5/0\n",
    "    b = a + \"a\"\n",
    "except ZeroDivisionError as e:\n",
    "    print(e)\n",
    "\n",
    "except TypeError as e:\n",
    "    print(e)\n",
    "\n",
    "else:\n",
    "    print(\"Every thing is fine\")\n",
    "\n",
    "finally:\n",
    "    print(\"Some Cleanup....\")"
   ]
  },
  {
   "cell_type": "code",
   "execution_count": 16,
   "metadata": {},
   "outputs": [
    {
     "ename": "ValueTooHighError",
     "evalue": "Input value is too high",
     "output_type": "error",
     "traceback": [
      "\u001b[0;31m---------------------------------------------------------------------------\u001b[0m",
      "\u001b[0;31mValueTooHighError\u001b[0m                         Traceback (most recent call last)",
      "Cell \u001b[0;32mIn[16], line 12\u001b[0m\n\u001b[1;32m      9\u001b[0m     \u001b[39mif\u001b[39;00m x\u001b[39m>\u001b[39m\u001b[39m100\u001b[39m:\n\u001b[1;32m     10\u001b[0m         \u001b[39mraise\u001b[39;00m ValueTooHighError(\u001b[39m'\u001b[39m\u001b[39mInput value is too high\u001b[39m\u001b[39m'\u001b[39m)\n\u001b[0;32m---> 12\u001b[0m test_value(\u001b[39m120\u001b[39;49m)\n",
      "Cell \u001b[0;32mIn[16], line 10\u001b[0m, in \u001b[0;36mtest_value\u001b[0;34m(x)\u001b[0m\n\u001b[1;32m      8\u001b[0m \u001b[39mdef\u001b[39;00m \u001b[39mtest_value\u001b[39m(x):\n\u001b[1;32m      9\u001b[0m     \u001b[39mif\u001b[39;00m x\u001b[39m>\u001b[39m\u001b[39m100\u001b[39m:\n\u001b[0;32m---> 10\u001b[0m         \u001b[39mraise\u001b[39;00m ValueTooHighError(\u001b[39m'\u001b[39m\u001b[39mInput value is too high\u001b[39m\u001b[39m'\u001b[39m)\n",
      "\u001b[0;31mValueTooHighError\u001b[0m: Input value is too high"
     ]
    }
   ],
   "source": [
    "# Define own Exception classes\n",
    "\n",
    "# Can be created by inheariting Exception \n",
    "\n",
    "class ValueTooHighError(Exception):\n",
    "    pass\n",
    "\n",
    "def test_value(x):\n",
    "    if x>100:\n",
    "        raise ValueTooHighError('Input value is too high')\n",
    "    \n",
    "test_value(120)\n"
   ]
  },
  {
   "cell_type": "code",
   "execution_count": 17,
   "metadata": {},
   "outputs": [
    {
     "name": "stdout",
     "output_type": "stream",
     "text": [
      "Input value is too high\n"
     ]
    }
   ],
   "source": [
    "# We can also catch custom exception using except block\n",
    "\n",
    "class ValueTooHighError(Exception):\n",
    "    pass\n",
    "\n",
    "def test_value(x):\n",
    "    if x>100:\n",
    "        raise ValueTooHighError('Input value is too high')\n",
    "    \n",
    "try :\n",
    "    test_value(120)\n",
    "except ValueTooHighError as e:\n",
    "    print(e)"
   ]
  },
  {
   "cell_type": "code",
   "execution_count": 22,
   "metadata": {},
   "outputs": [
    {
     "name": "stdout",
     "output_type": "stream",
     "text": [
      "Input value is too low\n",
      "10\n",
      "('Input value is too low', 10)\n"
     ]
    }
   ],
   "source": [
    "# Custom  Exception classes can be treated as normal class and define some custom attributes\n",
    "\n",
    "class ValueTooLowError(Exception):\n",
    "    def __init__(self,message,value):\n",
    "        self.message = message\n",
    "        self.value = value\n",
    "\n",
    "def test_value(x):\n",
    "    if x<20:\n",
    "        raise ValueTooLowError('Input value is too low',x)\n",
    "    \n",
    "try :\n",
    "    test_value(10)\n",
    "except ValueTooLowError as e:\n",
    "    print(e.message)\n",
    "    print(e.value)"
   ]
  }
 ],
 "metadata": {
  "kernelspec": {
   "display_name": "jupyter",
   "language": "python",
   "name": "python3"
  },
  "language_info": {
   "codemirror_mode": {
    "name": "ipython",
    "version": 3
   },
   "file_extension": ".py",
   "mimetype": "text/x-python",
   "name": "python",
   "nbconvert_exporter": "python",
   "pygments_lexer": "ipython3",
   "version": "3.11.3"
  },
  "orig_nbformat": 4
 },
 "nbformat": 4,
 "nbformat_minor": 2
}
