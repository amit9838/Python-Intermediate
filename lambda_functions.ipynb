{
 "cells": [
  {
   "attachments": {},
   "cell_type": "markdown",
   "metadata": {},
   "source": [
    "# Lambda Functions\n",
    "Small, oneline, anonymus function without any name\n",
    "\n",
    "#### Format of lambda functions\n",
    "**lambda arguments : expression**\n",
    "- lambda : This is compulsary keyword and it tells that function in lambda function.\n",
    "- arguments : arguments like x,y given to the function\n",
    "- expression : Definition of the function"
   ]
  },
  {
   "cell_type": "code",
   "execution_count": 2,
   "metadata": {},
   "outputs": [
    {
     "name": "stdout",
     "output_type": "stream",
     "text": [
      "8\n"
     ]
    }
   ],
   "source": [
    "# Example\n",
    "add = lambda x,y: x+y\n",
    "print(add(3,5))"
   ]
  },
  {
   "cell_type": "code",
   "execution_count": 7,
   "metadata": {},
   "outputs": [
    {
     "name": "stdout",
     "output_type": "stream",
     "text": [
      "[(5, -2), (1, 2), (13, 2), (24, 4)]\n",
      "[(5, -2), (1, 2), (13, 2), (24, 4)]\n",
      "[(1, 2), (5, -2), (13, 2), (24, 4)]\n"
     ]
    }
   ],
   "source": [
    "# Use case\n",
    "points2D = [(1,2),(24,4),(13,2),(5,-2)]\n",
    "\n",
    "# sort elements according to second index\n",
    "points2D_sorted = sorted(points2D, key=lambda cord: cord[1])\n",
    "print(points2D_sorted)\n",
    "\n",
    "\n",
    "\n",
    "# Without lambda function (using default function)\n",
    "def sort_by_y(cord):\n",
    "    return cord[1]\n",
    "\n",
    "points2D_sorted2 = sorted(points2D, key = sort_by_y)\n",
    "print(points2D_sorted2)\n",
    "\n",
    "\n",
    "# Sort according to the sum of both the values\n",
    "points2D_sorted_by_sum = sorted(points2D, key = lambda x: x[0]+x[1])\n",
    "print(points2D_sorted_by_sum)\n"
   ]
  },
  {
   "cell_type": "code",
   "execution_count": 17,
   "metadata": {},
   "outputs": [
    {
     "name": "stdout",
     "output_type": "stream",
     "text": [
      "[2, 4, 6, 8, 10]\n",
      "[2, 4, 6, 8, 10]\n",
      "[5, 6, 6]\n"
     ]
    }
   ],
   "source": [
    "# The map() function executes a specified function for each item in an iterable. The item is sent to the function as a parameter.\n",
    "# Using with map function\n",
    "a = [1,2,3,4,5]\n",
    "b = map(lambda x : x*2,a)\n",
    "print(list(b))\n",
    "\n",
    "# Do same operation using list comprension\n",
    "b1 = [x*2 for x in a]\n",
    "print(b1)\n",
    "\n",
    "# Calculate the length of each word in the tuple:\n",
    "x = map(lambda x:len(x), ('apple', 'banana', 'cherry'))\n",
    "print(list(x))"
   ]
  },
  {
   "cell_type": "code",
   "execution_count": 18,
   "metadata": {},
   "outputs": [
    {
     "name": "stdout",
     "output_type": "stream",
     "text": [
      "[2, 4]\n",
      "[2, 4]\n"
     ]
    }
   ],
   "source": [
    "# Using with filter function\n",
    "# The filter() function returns an iterator where the items are filtered through a function to test if the item is accepted or not.\n",
    "a = [1,2,3,4,5]\n",
    "b = filter(lambda x:x%2==0, a)  \n",
    "print(list(b))\n",
    "\n",
    "# Do same operation using list comprension\n",
    "b1 = [x for x in a if x%2==0]\n",
    "print(b1)\n"
   ]
  },
  {
   "attachments": {},
   "cell_type": "markdown",
   "metadata": {},
   "source": [
    "### Using with reduce function\n",
    "* The reduce(fun,seq) function is used to apply a particular function passed in its argument to all of the list elements mentioned in the sequence passed along.This function is defined in “functools” module.\n",
    "Working :  \n",
    "\n",
    "- At first step, first two elements of sequence are picked and the result is obtained.\n",
    "- Next step is to apply the same function to the previously attained result and the number just succeeding the second element and the result is again stored.\n",
    "- This process continues till no more elements are left in the container.\n",
    "- The final returned result is returned and printed on console."
   ]
  },
  {
   "cell_type": "code",
   "execution_count": 20,
   "metadata": {},
   "outputs": [
    {
     "name": "stdout",
     "output_type": "stream",
     "text": [
      "24\n",
      "The maximum element of the list is : 4\n"
     ]
    }
   ],
   "source": [
    "from functools import reduce\n",
    "\n",
    "a = [1,2,3,4]\n",
    "\n",
    "product_a = reduce(lambda x,y: x*y,a)\n",
    "print(product_a)\n",
    "\n",
    "\n",
    "# using reduce to compute maximum element from list\n",
    "print(\"The maximum element of the list is : \", end=\"\")\n",
    "print(reduce(lambda a, b: a if a > b else b, a))"
   ]
  }
 ],
 "metadata": {
  "kernelspec": {
   "display_name": "jupyter",
   "language": "python",
   "name": "python3"
  },
  "language_info": {
   "codemirror_mode": {
    "name": "ipython",
    "version": 3
   },
   "file_extension": ".py",
   "mimetype": "text/x-python",
   "name": "python",
   "nbconvert_exporter": "python",
   "pygments_lexer": "ipython3",
   "version": "3.11.3"
  },
  "orig_nbformat": 4
 },
 "nbformat": 4,
 "nbformat_minor": 2
}
